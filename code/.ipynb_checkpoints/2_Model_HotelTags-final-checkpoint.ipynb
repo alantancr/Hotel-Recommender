{
 "cells": [
  {
   "cell_type": "markdown",
   "metadata": {},
   "source": [
    "## EDA and Modelling Based on Hotel Attributes\n",
    "\n",
    "\n",
    "In this section, we will investigate and dive deeper into the data based on the hotel reviews and geolocation."
   ]
  },
  {
   "cell_type": "code",
   "execution_count": 1,
   "metadata": {},
   "outputs": [
    {
     "name": "stderr",
     "output_type": "stream",
     "text": [
      "/opt/anaconda3/lib/python3.7/site-packages/sklearn/utils/deprecation.py:144: FutureWarning: The sklearn.feature_extraction.stop_words module is  deprecated in version 0.22 and will be removed in version 0.24. The corresponding classes / functions should instead be imported from sklearn.feature_extraction.text. Anything that cannot be imported from sklearn.feature_extraction.text is now part of the private API.\n",
      "  warnings.warn(message, FutureWarning)\n"
     ]
    },
    {
     "data": {
      "text/html": [
       "        <script type=\"text/javascript\">\n",
       "        window.PlotlyConfig = {MathJaxConfig: 'local'};\n",
       "        if (window.MathJax) {MathJax.Hub.Config({SVG: {font: \"STIX-Web\"}});}\n",
       "        if (typeof require !== 'undefined') {\n",
       "        require.undef(\"plotly\");\n",
       "        requirejs.config({\n",
       "            paths: {\n",
       "                'plotly': ['https://cdn.plot.ly/plotly-latest.min']\n",
       "            }\n",
       "        });\n",
       "        require(['plotly'], function(Plotly) {\n",
       "            window._Plotly = Plotly;\n",
       "        });\n",
       "        }\n",
       "        </script>\n",
       "        "
      ]
     },
     "metadata": {},
     "output_type": "display_data"
    }
   ],
   "source": [
    "\n",
    "import pandas as pd\n",
    "import numpy as np\n",
    "from langdetect import detect\n",
    "from sklearn.feature_extraction import stop_words\n",
    "import re\n",
    "from nltk.corpus import stopwords\n",
    "import geocoder\n",
    "import folium\n",
    "from folium import plugins\n",
    "import warnings\n",
    "warnings.simplefilter(action='ignore', category=FutureWarning)\n",
    "import string\n",
    "from sklearn.metrics.pairwise import cosine_similarity\n",
    "import cufflinks as cf\n",
    "cf.go_offline()\n",
    "cf.set_config_file(offline=False, world_readable=True)"
   ]
  },
  {
   "cell_type": "code",
   "execution_count": 2,
   "metadata": {},
   "outputs": [],
   "source": [
    "#importing data \n",
    "hoteltags=pd.read_pickle('../data/hoteltag.pkl')\n",
    "geocode=pd.read_pickle('../data/geocode.pkl')"
   ]
  },
  {
   "cell_type": "code",
   "execution_count": 3,
   "metadata": {},
   "outputs": [],
   "source": [
    "# merging geocode into dataset\n",
    "hoteltags_geo= pd.merge(hoteltags,geocode,on='hotel_name',how='outer')"
   ]
  },
  {
   "cell_type": "code",
   "execution_count": 4,
   "metadata": {},
   "outputs": [
    {
     "data": {
      "text/html": [
       "<div>\n",
       "<style scoped>\n",
       "    .dataframe tbody tr th:only-of-type {\n",
       "        vertical-align: middle;\n",
       "    }\n",
       "\n",
       "    .dataframe tbody tr th {\n",
       "        vertical-align: top;\n",
       "    }\n",
       "\n",
       "    .dataframe thead th {\n",
       "        text-align: right;\n",
       "    }\n",
       "</style>\n",
       "<table border=\"1\" class=\"dataframe\">\n",
       "  <thead>\n",
       "    <tr style=\"text-align: right;\">\n",
       "      <th></th>\n",
       "      <th>hotel_name</th>\n",
       "      <th>tags</th>\n",
       "      <th>lat_x</th>\n",
       "      <th>lng_x</th>\n",
       "      <th>lat_y</th>\n",
       "      <th>lng_y</th>\n",
       "      <th>location</th>\n",
       "      <th>country</th>\n",
       "      <th>city</th>\n",
       "    </tr>\n",
       "  </thead>\n",
       "  <tbody>\n",
       "    <tr>\n",
       "      <th>0</th>\n",
       "      <td>11 Cadogan Gardens</td>\n",
       "      <td>[' Leisure trip ', ' Couple ', ' Superior Quee...</td>\n",
       "      <td>51.493616</td>\n",
       "      <td>-0.159235</td>\n",
       "      <td>51.493616</td>\n",
       "      <td>-0.159235</td>\n",
       "      <td>[{'country_code': 'GB', 'city': 'Chelsea', 'co...</td>\n",
       "      <td>United Kingdom</td>\n",
       "      <td>Chelsea</td>\n",
       "    </tr>\n",
       "    <tr>\n",
       "      <th>1</th>\n",
       "      <td>1K Hotel</td>\n",
       "      <td>[' Leisure trip ', ' Couple ', ' Superior M Do...</td>\n",
       "      <td>48.863932</td>\n",
       "      <td>2.365874</td>\n",
       "      <td>48.863932</td>\n",
       "      <td>2.365874</td>\n",
       "      <td>[{'country_code': 'FR', 'city': 'Paris', 'coun...</td>\n",
       "      <td>France</td>\n",
       "      <td>Paris</td>\n",
       "    </tr>\n",
       "    <tr>\n",
       "      <th>2</th>\n",
       "      <td>25hours Hotel beim MuseumsQuartier</td>\n",
       "      <td>[' Leisure trip ', ' Solo traveler ', ' Standa...</td>\n",
       "      <td>48.206474</td>\n",
       "      <td>16.354630</td>\n",
       "      <td>48.206474</td>\n",
       "      <td>16.354630</td>\n",
       "      <td>[{'country_code': 'AT', 'city': 'Vienna', 'cou...</td>\n",
       "      <td>Austria</td>\n",
       "      <td>Vienna</td>\n",
       "    </tr>\n",
       "    <tr>\n",
       "      <th>3</th>\n",
       "      <td>41</td>\n",
       "      <td>[' Leisure trip ', ' Couple ', ' Executive Kin...</td>\n",
       "      <td>51.498147</td>\n",
       "      <td>-0.143649</td>\n",
       "      <td>51.498147</td>\n",
       "      <td>-0.143649</td>\n",
       "      <td>[{'country_code': 'GB', 'city': 'West End of L...</td>\n",
       "      <td>United Kingdom</td>\n",
       "      <td>West End of London</td>\n",
       "    </tr>\n",
       "    <tr>\n",
       "      <th>4</th>\n",
       "      <td>45 Park Lane Dorchester Collection</td>\n",
       "      <td>[' Leisure trip ', ' Solo traveler ', ' Execut...</td>\n",
       "      <td>51.506371</td>\n",
       "      <td>-0.151536</td>\n",
       "      <td>51.506371</td>\n",
       "      <td>-0.151536</td>\n",
       "      <td>[{'country_code': 'GB', 'city': 'West End of L...</td>\n",
       "      <td>United Kingdom</td>\n",
       "      <td>West End of London</td>\n",
       "    </tr>\n",
       "  </tbody>\n",
       "</table>\n",
       "</div>"
      ],
      "text/plain": [
       "                           hotel_name  \\\n",
       "0                  11 Cadogan Gardens   \n",
       "1                            1K Hotel   \n",
       "2  25hours Hotel beim MuseumsQuartier   \n",
       "3                                  41   \n",
       "4  45 Park Lane Dorchester Collection   \n",
       "\n",
       "                                                tags      lat_x      lng_x  \\\n",
       "0  [' Leisure trip ', ' Couple ', ' Superior Quee...  51.493616  -0.159235   \n",
       "1  [' Leisure trip ', ' Couple ', ' Superior M Do...  48.863932   2.365874   \n",
       "2  [' Leisure trip ', ' Solo traveler ', ' Standa...  48.206474  16.354630   \n",
       "3  [' Leisure trip ', ' Couple ', ' Executive Kin...  51.498147  -0.143649   \n",
       "4  [' Leisure trip ', ' Solo traveler ', ' Execut...  51.506371  -0.151536   \n",
       "\n",
       "       lat_y      lng_y                                           location  \\\n",
       "0  51.493616  -0.159235  [{'country_code': 'GB', 'city': 'Chelsea', 'co...   \n",
       "1  48.863932   2.365874  [{'country_code': 'FR', 'city': 'Paris', 'coun...   \n",
       "2  48.206474  16.354630  [{'country_code': 'AT', 'city': 'Vienna', 'cou...   \n",
       "3  51.498147  -0.143649  [{'country_code': 'GB', 'city': 'West End of L...   \n",
       "4  51.506371  -0.151536  [{'country_code': 'GB', 'city': 'West End of L...   \n",
       "\n",
       "          country                city  \n",
       "0  United Kingdom             Chelsea  \n",
       "1          France               Paris  \n",
       "2         Austria              Vienna  \n",
       "3  United Kingdom  West End of London  \n",
       "4  United Kingdom  West End of London  "
      ]
     },
     "execution_count": 4,
     "metadata": {},
     "output_type": "execute_result"
    }
   ],
   "source": [
    "hoteltags_geo.head()"
   ]
  },
  {
   "cell_type": "code",
   "execution_count": 5,
   "metadata": {},
   "outputs": [],
   "source": [
    "#subsetting dataset\n",
    "hoteltags_geo=hoteltags_geo[['hotel_name','tags','lat_x','lng_x','city']]"
   ]
  },
  {
   "cell_type": "markdown",
   "metadata": {},
   "source": [
    "The hotel tags are saved as string. We will need to write a function to extract each attribute and store in tags."
   ]
  },
  {
   "cell_type": "code",
   "execution_count": 6,
   "metadata": {},
   "outputs": [],
   "source": [
    "exclude = set(string.punctuation)\n",
    "def clean(x):\n",
    "    return set([''.join(ch for ch in i.lower() if ch not in exclude).strip() for i in x[2:][:-2].split(',')])"
   ]
  },
  {
   "cell_type": "code",
   "execution_count": 7,
   "metadata": {},
   "outputs": [],
   "source": [
    "# applying to clean the tags and assigning them to a new column\n",
    "hoteltags_geo['new_tags'] = hoteltags_geo['tags'].map(clean)\n"
   ]
  },
  {
   "cell_type": "markdown",
   "metadata": {},
   "source": [
    "## Feature Engineering\n",
    "\n",
    "This encoding is needed for feeding categorical data. We store every different attributes in columns that contain either 1 or 0. 1 indicates that a hotel has that attribute and 0 shows that it doesn’t. \n",
    "\n",
    "In order to understand what are the key attributes in the dataframe, set was used to store respective hotel's attributes. This allows us to not keep duplicating attributes."
   ]
  },
  {
   "cell_type": "code",
   "execution_count": 8,
   "metadata": {},
   "outputs": [
    {
     "name": "stdout",
     "output_type": "stream",
     "text": [
      "{'double without credit card', 'luxury suite music theme', 'double room disability access tub', 'standard room with queen bed', 'regency suite', 'suite with spa bath', 'privilege superior room', 'suite with extra bed', 'grand deluxe contemporary room', 'superior double or twin room with balcony 1 adult', 'stayed 7 nights', 'king hilton plaza room', 'deluxe plus double or twin room', 'superior room with 1 double bed and 1 sofa bed 1 place', 'superior suite 2 adults 2 children', 'suite room 1 or 2 people', 'apartment 3 adults', '2 connecting double rooms', 'superior double bedroom', 'junior king suite with lounge access', 'executive double or twin room with spa access', 'executive king room with executive lounge access', 'river double suite', 'two adjoining superior suite', 'classic single room with spa access', 'premium suite', 'standard double room ground floor', 'deluxe triple room with view', 'two bedroom suite', 'superior apartment 3 adults', 'hypoallergenic double or twin room', 'superior double or twin room xl with view', 'club superking room', 'standard room for 1 or 2 people with kitchenette', 'family room two connecting rooms 3 adults', 'special offer superior double room', 'twin hilton deluxe', 'executive suite 2 adults 2 children', 'suite with hot tub', 'executive king room with air conditioning', 'loft suite disability access', 'triple room annex', 'junior suite with extra bed 3 adults', 'stayed 1 night', 'double room relax', '2 adjacent rooms', 'premium king or queen room', 'king room', 'deluxe queen room with two queen beds', 'one bedroom king suite 2 adults', 'grand deluxe imperial room', 'prestige double room with view', 'one bedroom suite with air conditioning', 'executive business room with double bed', 'cozy room', 'traditional double room', 'superior twin room barlow wing', 'superior double twin room', 'classic double room with view', 'superior premium queen room with sofa bed', 'fabulous exchange king', 'montcalm club room', 'stayed 31 nights', 'double or twin room with balcony or terrace', 'family room with king bed', 'chambers junior suite with club lounge access', 'king executive room with lounge access', 'suite with private pool', 'executive king room non smoking', 'deluxe double room annex', 'luxury single room', 'superior suite', 'cosy family', 'penthouse suite with terrace and city view', 'duplex family suite with spa bath', 'classic double room', 'executive suite', 'superior room with queensize bed and single sofa bed', 'special offer double room with parking', 'privilege double room with eiffel tower view', 'suite with rambla view', 'luxury two bedroom apartment', 'two connecting classic double rooms', 'privilege room with hammam', 'triple studio', 'double or twin room with panoramic view', 'executive deluxe king room', 'superior capucines room', 'two adjacent rooms 6 persons', 'king deluxe one bedroom suite with lounge access', 'suite tea time wine tasting included', 'deluxe room with 1 king bed', 'two connecting rooms', 'suite 2 adults 1 child', 'privilege room with 2 double beds', 'superior double room 2 adults 1 child', 'special offer classic room with parking', 'king or double room with panoramic view', 'deluxe suite with city view', 'family room two connecting rooms vip welcome for kids', 'stunning city studio', 'deluxe king room 2 adults', 'classic double or twin room with spa access', 'twin grand premier with canal view', 'executive king room', 'park deluxe suite', 'grand deluxe double room', 'small deluxe room with canal view', 'king superior room', 'double or twin room in dite', 'supreme double room', 'urban deluxe', 'wonderful sky room', 'apartment with city view top floor', 'deluxe family room 2 adults 2 children', 'superior triple room with 3 single beds', 'comfort plus double room', 'standard room with 2 double beds', 'executive studio city view', 'double room city', 'comfort double room with extra bed', 'family room 6 adults', 'king accessible superior room', 'suite with knightsbridge view', 'classic double or twin room with extra bed', 'two adjacent double room', 'business suite', 'large triple room', 'deluxe queen guestroom', 'double or twin room with pool view', 'special offer comfort double room with breakfast and parking included', 'superior double or twin room with terrace spa acces', 'double room disability access non smoking', 'executive room with city view', 'iconic king room with city view', 'royal suite with canal view', 'single guest room', 'suite with spa access', 'standard room with two single beds renovated', 'double or twin room with courtyard view', 'deluxe double room with spa access', 'executive room queen size bed', 'superior double room', 'classic room', 'executive twin room with river view', 'fabulous room', 'comfort double room with park view', 'twin suite', 'suite 1 3 adults', 'standard 1 bedroom apartment', 'double or twin room with sofa bed', 'grand deluxe king or twin room', 'deluxe room 2 adults', 'luxury family room', 'twin room with cathedral view', 'queen suite with lounge access', 'superior triple room', 'superior queen room with sofa bed', 'standard double or twin room with extra bed', 'loft suite with terrace', 'junior deluxe twin room', 'junior suite with 1 king size bed', 'junior family suite 3 adults', 'premium superior double room', 'two connecting executive rooms', 'superior deluxe double or twin room with spa access', 'standard family suite with two connecting rooms 4 adults', 'suite room', 'deluxe designer', 'executive double room eiffel studio d artiste with view of paris', 'standard room with one double bed and single sofa bed', 'superior double room with city view', 'queen room disability access non smoking', 'superior triple room xl', 'classic double room with breakfast', 'executive room with double bed', 'luxury room 1 queensize bed twin bedded room on request', 'deluxe twin room with terrace and eiffel tower view', 'stayed 30 nights', 'deluxe garden room', 'deluxe family room with 1 double and 2 single beds 3 adults', 'deluxe king room with paris view', 'executive suite with river view', 'standard', 'duplex triple room', 'luxury twin room solarium', 'double or twin room with park view', 'deluxe king room with water view', 'falconers two bedroom suite', 'queen room non smoking', 'junior suite with private access to pool and spa', 'deluxe king with balcony', 'quality double or twin room with extra bed', '2 rooms', 'twin hilton sea view', 'junior suite basement', 'autentic double room', 'hyatt twin room with view', 'deluxe double room with city view and spa access', 'family room with king bed and sofa bed', 'superior triple room with 1 double bed 1 single bed', 'superior room with double bed', 'twin or double room with terrace', 'river view balcony suite', 'comfort twin room', 'superior room with queen bed and sofa', 'executive double room river view', 'camper suite', 'double room courtyard', 'deluxe family room with spa access', 'club double or twin room with club lounge access', 'deluxe triple room swimming pool hammam access upon reservation', 'privilege room with a double bed upper floors', 'classic double room with shower', 'deluxe double room with view', 'stayed 28 nights', 'basic double or twin room', 'king duplex suite', 'single room with free airport shuttle service from 5 00am to 00 30am', 'room with river view main deck', 'travelers with friends', 'executive room with queen size bed and single sofa bed 3 adults', 'compact double room', 'deluxe room with courtyard view', 'superior queen room with sofa', 'triple room 3 adults', 'superior studio with city view', 'park deluxe king or twin', 'wonderful double or twin room', 'family queen room', 'suite 4 adults', 'standard room with queen bed and sofa bed', 'prestige double or twin room', 'suite without window', 'family premium room 2 adults 2 children', 'triple junior suite', 'small double room canal view', 'urban double or twin room', 'double room atelier d artiste with spa bath', 'deluxe double room with private access to pool and spa', 'deluxe club double room', 'principle double', 'business single room', 'family room 3 adults', 'executive double room with access to the level lounge', 'deluxe suite 2 adults with paris view', 'executive queen room with balcony', 'classic family room', 'panoramic suite', 'deluxe room with club lounge access', 'executive queen room', 'junior suite', 'stayed 24 nights', 'cosmopolitan suite', 'suite split level', 'executive twin room', 'double twin rooms next to each other', 'luxury room with spa access', 'hilton deluxe twin room plus', 'executive queen room with lounge access', 'deluxe executive room', 'executive double room with whirlpool', 'family room three bedrooms communicating', 'deluxe room 1 or 2 people', 'twin executive room', 'superior twin room with park view', 'privilege twin king room', 'ren room free wifi', 'double deluxe plus room', 'suite with terrace', 'deluxe boulevard double room', 'superior room with garden view free wifi', 'superior twin room with terrace', 'superior double or twin room', 'superior double room with free unlimited wifi', 'king master suite', 'superior queen room with 2 single sofa beds', 'premium room grand pigalle', 'luxury room', 'double room with shared bathroom', 'deluxe double room 1 adult', 'superior double room with street view', 'art king room', 'two connecting double or twin rooms', 'superior double room with sofa bed and pool view', 'budget double room second floor', 'business room', 'special offer double room 3 nights minimum', 'club double room with club lounge access', 'suite avenue', 'executive king or twin room with lounge access and park view', 'studio twin', 'king atrium suite with lounge access', 'garden twin room', 'twin guest room', 'king guest room wheelchair accessible', 'executive deluxe', 'suite oc ane', '2 connecting rooms 5 people', 'family room free wifi', 'business single room with courtyard view', 'superior queen suite with sofa bed', 'deluxe guest room 1 king or 2 twin single bed s', 'deluxe double room with terrace and eiffel tower view', 'twin room with extra bed', 'executive room with queen size bed and double sofa bed 2 adults 2 children', 'club deluxe room', 'superior double or twin room xl', 'classic triple room', 'king loft', 'superior twin room with city view', 'suite with garden view', 'stayed 5 nights', 'ma tre superior double or twin room with street view', 'king one bedroom suite', 'junior suite with cathedral view', 'superior junior suite', 'premium twin room', 'superior quadruple room', 'privilege room with double bed and single sofa bed', 'superior shard king', 'special offer standard double or twin room', 'suite terasse eiffel', 'double or twin room with extra bed with balcony', 'stayed 22 nights', 'room with park view', 'luxury triple room', 'luxury duplex room', 'family room annex', 'studio apartment', 'quadruple room annex', 'junior suite tendre ros e', 'premium double or twin room with view and terrace', 'king suite with lounge access', 'junior suite with shower', 'superior double room with terrace', 'vend me deluxe room', 'duplex suite with spa access', 'superior deluxe king or double room', 'balcony suite with executive lounge access', 'junior suite with extra bed', 'double deluxe room with roman bath', 'fabulous bank canal', 'executive suite with spa bath', 'executive double room with turkish bath', 'small double room', 'double room capricieuse', 'residence suite', 'deluxe double room with panoramic view', 'standard room with 1 kingsize bed', 'standard double or twin room annex building', 'duplex suite with state opera view top floor', 'deluxe l double room', 'executive queen suite', 'deluxe room with terrace', 'suite 1 2 adults with spa access', 'family room 2 adults 2 children with access to nagomi health', 'amsterdam street art double guest room', 'standard room with queen size bed and double sofa bed', 'executive deluxe double room', 'king guest room', 'souterrain executive double room', 'suite with spa access 2 adults', 'superior room with queen bed sofa', 'small single room', 'twin city view room', 'eiffel tower view king room', 'deluxe twin', 'superior double or twin room with garden view', 'twin room with spa bath', 'deluxe twin room with eiffel tower view', 'family plan', 'superior premium room with queen bed and sofa bed', 'small double room with canal view', 'suite with spa access 4 adults', 'deluxe double room canal view', 'double hilton deluxe room', 'embassy suite', 'stayed 9 nights', 'twin junior suite', 'queen hilton guest room', 'double or twin room with city view', 'standard quadruple room', 'superior suite with garden view', 'grand executive room with city view', 'premier king room', 'premium room 3 adults', 'family room with view 2 adults 2 children', 'la reflet junior suite', 'standard double room 2 adults', 'superior double or twin room with spa access', 'fantastic suite', 'superior double or twin room xl with extra bed', 'studio with spa access', 'superior double or twin room with sauna access', 'small studio', 'king family room', 'comfort king or twin room', 'standard twin room 2 adults 1 child', 'economy double room basement no window', 'special offer double room', 'deluxe triple room with tea time included', 'suite grand lit', 'single room annex', 'delegate deluxe double room', 'grand premium double or twin with city view', 'standard room with 1 double bed', 'knightsbridge suite', 'deluxe double room with free access to steam bath', 'deluxe twin room souterrain basement', 'superior room with sofa bed 4 adults', 'standard double or twin room with view', 'double room 1 adult with free airport shuttle service from 5 00am to 00 30am', 'grand executive king room', 'suite pigalle 35', 'business double room with wifi and breakfast', 'family suite 4 adults', 'double room 1 2 adults', 'standard double or twin room 1 2 adults', 'quintuple room 5 adults', 'canal view queens', 'small double room with terrace', 'junior suite royal', 'interior facing double room with natural light', 'superior twin room with paris view', 'executive double room', 'luxury double room', 'single cabin room', 'privilege room with view', 'deluxe double or twin room light my fire', 'classic double room with private terrace', 'apartment 6 adults', 'club room with club lounge access', 'stayed 21 nights', 'executive double room non smoking', 'art deco deluxe room', 'deluxe king room with canary wharf view', 'classic twin room', 'small twin room', 'deluxe double or twin room 1 2 adults', 'executive double room with spa bath', 'urban suite', 'camper room', 'junior king suite with view 3 adults', 'suite 3 adults', 'superior oversized queen room', 'urban junior suite', 'deluxe double room with canal view', 'two interconnecting rooms', 'two bedroom suite with two bathrooms', 'special offer double or twin room with parking', 'deluxe king suite', 'privilege double or twin room', 'executive king or twin room', 'queen guest room', 'standard compact double room', 'duplex king suite 3 adults', 'deluxe double room with city view', 'family suite with balcony', 'classic double single use', 'twin room 1 2 adults', 'superior room with canal view', 'art room xl with iconic view', 'deluxe double room with four poster bed', 'classic room with queen bed', 'deluxe room', 'premium double or twin room xl with view', 'executive room with queen bed renovated', 'twin room with courtyard view', 'privilege family room', 'junior suite high floor', 'deluxe double twin room', '2 adjacent non communicating rooms', 'classic double room les pop', 'junior suite with sea view', 'classique square', 'king executive room', 'superior duplex room', 'family with older children', 'executive room non smoking', 'deluxe double room with private pool', 'business trip', 'junior suite 1 3 adults', 'apartment', 'panorama guest room 1 king or 2 twin single bed s', 'two double bed guest room', 'junior suite with terrace and city view', 'ground floor queen room disability access', 'premier room', 'standard apartment', 'hyatt queen room with view', 'superior single room', 'double suite', 'king cathedral view room', 'cozy double or twin room', 'junior suite with view', 'king room with sofa bed', 'junior suite double', 'superior double room with 1 extra bed', 'family with young children', 'standard duplex room 1 2 adults', 'deluxe apartment 4 adults 2 children', 'suite designer', 'townhouse deluxe', 'deluxe family room 4 adults', 'double or twin room with sea view', 'twin room non smoking', 'triple hilton family room', 'executive double room with eiffel tower view', 'queen single room', 'luxury suite', 'standard double room with sofa bed 3 adults', 'room selected at check in', 'room sous les toits 18m with montmartre view', 'privilege room 3 adults', 'privilege room with double bed and single sofa bed 3 adults', 'superior king suite', 'executive room with 1 queensize bed', 'royal double room', 'one bedroom family suite', 'double twin superior room', 'grande suite', 'single room with park view', 'deluxe double or twin room 3 adults', 'two adjacent double or twin rooms', 'accessible queen guest room', 'deluxe double room with extra bed', 'comfort plus twin room', 'king executive waterfront with access to executive lounge', 'classique double room', 'one room suite with kitchenette', 'standard double room disability access', 'triple room 2 adults 1 child', 'club double or twin room', '2 connecting rooms 5 adults', 'grand suite duplex', 'duplex king suite 2 adults 2 children', 'double room with sauna access', 'superior double room with spa access', 'superior king or twin room', 'superior double room with london eye view', 'superior room with 1 double bed and 1 sofa bed 3 adults', 'luxury studio suite', 'grand executive room', 'superior room with 1 queen bed 1 sofa bed', 'superior king room with balcony', 'double room crash pad under 30s', 'twin hilton plaza room', 'wonderful bank king', 'one bedroom suite with city view', 'superior double room with private patio', 'duplex double room', 'deluxe double room with hammam', 'double room with fitness equipment', 'park deluxe room', 'exclusive double or twin room', 'prestige suite', 'duplex', 'executive queen room with sofa', 'hilton executive suite with lounge access', 'twin grand premier room', 'deluxe queen room with pool view', 'superior plus double room', 'family suite', 'superior double room les artys les fifties', 'double room marquise', 'double room duchesse', 'superior double room pigalle 17', 'executive king room non smoking with executive lounge access', 'delightful king twin room', 'deluxe twin or single room', 'park studio king', 'two connecting double rooms 5 adults', 'executive suite free executive lounge access', 'twin room with extra bed 3 adults', 'collection suite', 'luxury king room', 'suite parisienne', 'superior', 'king grand deluxe room', 'king suite with executive lounge access', 'superior double room loge sup rieure', 'kube double or twin room', 'art room with iconic view', 'standard double room no window', 'luxury one bedroom apartment', 'double room disability access', 'superior room with queensize bed and single sofa bed 3 adults', 'penthouse', 'design suite', 'double room with small double bed', 'executive deluxe studio suite', 'double or twin room non smoking', 'business double or twin room facing the sea', 'family room xl', 'premium lafayette', 'senior suite 1 3 adults', 'interconnecting rooms', 'k suite', 'park view studio', 'one bedroom executive suite with lounge access', 'deluxe junior suite with spa bath', 'two connecting basic rooms', 'suite with panoramic view', 'queen one bedroom suite', 'double room with street view', 'superior twin room with extra bed', 'premium double twin room', 'superior queen room with single sofa bed', 'apartment 4 adults', 'privilege double room', 'twin room', 'twin superior room', 'apartment suite', 'xscape king', 'deluxe double room with patio', 'family apartment', 'luxury king room with river view', 'two bedroom suite with terrace', 'superior four poster room', 'double room 3 adults', 'deluxe twin room with view', 'family executive room 2 adults 2 children', 'superior double room with terrace and view', 'city garden room', 'exclusive suite', 'studio 2 adults', 'standard double room with bath', 'special offer twin double room stay and park', 'queen room upper floors', 'exclusive double or twin room la mondaine', 'business double room with 500 frequent flyer miles', 'club double room with free internet and breakfast', 'classic double or single room', 'executive studio', 'studio my little haussmann', 'wonderful bank with canal view', 'ring suite', 'superior double room with 1 double bed and 1 sofa bed 2 places', 'executive room with queen bed', 'standard twin room', '2 double connecting rooms', 'superior suite with city view', 'view twin', 'club king room', 'deluxe suite with river view', 'nadler deluxe double room', 'aldwych double twin room', 'superior twin room with two double beds', 'standard studio', 'superior double room with view non smoking', 'junior suite with mountain view', 'sextuple room', 'regency executive suite with lounge access', 'saint honor double suite', 'three bedroom suite', 'family room 4 people', 'quadruple room', 'superior twin room with sofa bed non smoking', 'room with view', 'king room with eiffel tower view', 'superior double room with free access to steam bath', 'classic double room with free pool and hammam access', 'superior room with 1 double bed and sofa', 'kings junior suite', 'twin studio', 'superior deluxe double room with canal view', 'suite with harbour view', 'double executive room with lounge access', 'classic studio', 'superior king room with sofa bed', 'special offer double twin room stay and park', 'family two bedroom suite', 'luxury double room with balcony', 'superior executive twin room', 'signature luxury king with balcony', 'junior double suite', 'special offer single room with continental breakfast', 'junior suite jungle fever with hot tub', 'hilton superior twin room', 'chelsea twin suite', 'three bedroom apartment', 'junior suite 5 adults', 'couture deluxe double room', 'special offer deluxe double or twin room', 'grand superior room', 'superior room with queen size bed and sofa bed', 'eiffel loft', 'junior suite with river view', 'mus e d orsay double room', 'andaz suite', 'royal mews view king room', 'four poster suite', 'twin room disability access', 'art twin room', 'superior triple room 3 adults', 'superior double or twin room with eiffel tower partial view', 'king double room', 'executive double or twin room with view of big ben and lounge access', 'triple room disability access', 'deluxe single room', 'privilege junior suite with terrace and spa access', 'special offer executive double twin room with access to nagomi health', 'solo room', 'family room 2 adults 1 child', 'grand premier family room', 'double room for single use', 'deluxe with two double beds', 'junior suite with city view', 'deluxe double room with terrace', 'modern double room narcisse', 'master bedroom double', 'accessible king room with lounge access', 'suite family room', 'executive double room with access to executive lounge', 'superior suite junior', 'family room with sofa bed', 'double superior room', 'premium double or twin room with view', 'superior deluxe room', 'double room with city view', 'comfort suite', 'hansen suite', 'king junior suite with view', 'eiffel suite with partial view', 'business double room', 'superior suite with 1 double bed and 1 single bed', 'octagon suite with lounge access', 'regency suite king', 'superior family room', 'classic room breakfast included', 'montcalm club double room', 'compact double room shared bathroom', 'classic master suite', 'two adjacent classic double rooms', 'executive room with two double beds and executive lounge access', 'luxury suite conservatory with lounge access', 'deluxe room with 1 queen bed', 'double or twin room with balcony', 'superior double or twin room with landmark view', 'double room with extra bed 2 adults 1 child with ramblas view', 'deluxe room 2 adults 1 child', 'superior double or twin room non smoking', 'loft junior suite', 'gallery suite with spa access free wifi', 'executive double or twin room with private terrace', 'executive suite with balcony', 'basic double or twin room with parking', 'privilege double room with terrace', 'two connecting rooms 3 persons', 'single room with private bathroom', 'queen room mobility access', 'single room with bath', 'king guest room with sofa bed', 'suite marignan eiffel', 'regency king suite with lounge access', 'comfort double room with sacr coeur view', 'special offer double room with continental breakfast', 'junior suite my ch rie amour', 'junior triple room', 'club room with club lounge access free wifi', 'souterrain triple room', 'large double room', 'magistrate king', 'souterraine double or twin room', 'superior room with garden view', 'superior double room with free access to hamman', 'double for single use', 'standard room with terrace', 'executive double room top floor', 'four seasons suite', 'executive double room with city view', 'superior double room with terrace and cathedral view', 'superior twin room with view', 'king premier room', 'executive four poster room', 'queen junior suite', 'superior double room 1 adult', 'suite with sofa bed', 'hyatt queen room', 'premier shard suite', 'deluxe king plus', 'double room lady soul', 'junior suite twin', 'one bedroom park suite', 'privilege room with 1 queen size bed', 'one bed feature room', 'hilton queen family room', 'superior room with a shower or a bath', 'standard room with queen bed renovated', 'double room with extra bed', 'loft suite', 'double room with parking', 'club king room non smoking with executive lounge access', 'classic twin view', 'superior double room with courtyard view', 'executive black suite', 'apartment attic', 'junior suite 3 adults', 'king room or twin room disability access', 'king studio', 'ruyschen suite', 'twin premier room', 'double or twin room with parking', 'deluxe king room with river view', 'king room with partial sea view', 'double room curieuse', 'comfort single room with window and double bed', 'privilege room with 1 double bed', 'superior room with 2 zip beds', 'one bedroom king suite with garden view', 'king deluxe room with canal view', 'superior plus twin room', 'ambassador suite', 'family suite 2 adults 2 children', 'single hilton guestroom', 'club twin room with lounge access', 'king deluxe guest room', 'double guest room with river view', 'double or twin room allergy free', 'new amsterdam suite', 'double or twin ground floor', 'standard room with 1 double bed and 1 sofa bed', 'superior room with 1 double bed and 1 sofa bed 2 places', 'two adjoining rooms', 'superior guest room 1 king or 2 twin single bed s', 'drop dead gorgeous splash suite', 'deluxe double room with state opera view', 'large king room', 'garden view king', 'studio suite bank', 'presidential suite with view terrace', 'deluxe double room 3 adult', 'compact double room with private bathroom', 'two double adjoining rooms', 'king room mobility accessible', 'executive room 1 queen size bed 1 sofa bed balcony', 'intuition room', 'city twin room', 'twin deluxe guest room', 'superior queen room with courtyard garden or city view', 'studio disability access', 'standard king room', 'suite champs lys es', 'premium double room', 'superior double room with spa access free wifi', 'stayed 17 nights', 'double room with patio view', 'junior suite with lounge access and city view', 'deluxe double or twin room', 'deluxe queen room with view', 'garden cottage', 'double room with garden view', 'classic suite', 'premier suite', 'fabulous double or twin room', 'king deluxe family room', 'superior double room disability access', 'suite family and friends', 'club king room with view and lounge access', 'maisonette', 'superior king suite 3 adults', 'superior room with sofa bed', 'executive room with two queen beds', 'double room mus e d orsay with spa bath', 'observatory king', 'deluxe eiffel tower twin room', 'budget single room non smoking', 'superior family room 2 adults 1 child', 'prestige suite 2 adults with canal view', 'junior room', 'urban queen room with spa access', 'small single room with balcony', 'king one bedroom suite with lounge access', 'sensation room', 'amiral single room', 'executive room with garden view', 'executive king room with view', 'basic double room', 'dorsett double room', 'standard double room with queen bed', 'imperial club double room with access to the club lounge', 'superior double room with roll in shower disability access', 'double guest room', 'nhow double or twin room', 'family room 3 adults 1 child', 'andaz king twin room', 'standard queen room', 'queen room with sofa bed non smoking', 'special offer double or twin room', 'club level classic rooms', 'superior room with balcony', 'deluxe room barlow wing', 'double room large', 'quadruple room 2 adults 2 children', 'classic apartment', 'executive double or twin room canal view', 'deluxe double and single room', 'executive double room with two double beds with lounge access', 'double room 2 adults', 'parisian suite', 'standard double room with tea time included', 'superior king', 'executive queen room with lounge access mobility access', 'art deco deluxe room patio and terrace', 'standard room with 2 single beds', 'superior king room with iconic view', 'penthouse king executive room with access to executive lounge', 'townhouse club', 'superior double or twin room with city view', 'executive triple room with garden view', 'double or twin room', 'hyde park junior suite with park view', 'deluxe double or twin room with landmark view', 'superior executive room', 'classic designer', 'secret room with spa access', 'luxury suite patio', 'deluxe triple room with paris view', 'deluxe double or twin room with ramblas view', 'trash city suite', 'executive suite 2 adults', 'queen suite with balcony and city view', 'deluxe double room with bath', 'superior double room with sofa bed 3 adults', 'suite with city view and parking', 'superior double room free wi fi', 'queen hilton superior room', 'queen guest room with terrace', '2 double rooms next to each other', 'twin room with city view top floor', 'standard double room with terrace', 'one bedroom suite', 'executive apartment', 'king room with city view', 'family communicating rooms', 'twin room with view', 'deluxe twin studio', 'premier twin room', 'king deluxe family room connecting doors', 'delightful queen room', 'junior suite twin 1 2 adults', 'duplex suite with sofa bed', 'queen double room', 'twin guestroom', 'suite with view', 'halkin room', 'triple room with city view', 'double room with club lounge access', 'deluxe double or twin room annex', 'deluxe family room with 1 double and 2 single beds', 'junior king suite', 'superior double room with sea view', 'deluxe double or twin room with terrace', '2 connecting rooms', 'duplex deluxe triple room 2 adults 1 child', 'superior double room with tea time included', 'park suite', 'executive twin room with lounge access', 'deluxe quadruple room', 'business double or twin room', 'superior suite 4 adults', 'junior suite 3 adults with spa access', 'deluxe room with spa fitness access', 'chambers grand junior suite with club lounge access', 'four seasons twin junior suite', 'classic adjacent rooms', 'double or twin room 1 2 adults', 'standard twin room with sofa', 'classic double or twin room with city view', 'executive king room with lounge access', 'small double room 1 2 adults', 'large deluxe room', 'two connecting superior twin rooms', 'tradition double room', 'junior suite xl', 'cabaret junior suite', 'junior suite 1 2 adults', 'superior room with spa access free wifi', 'comfort triple room with spa bath', 'exception room', 'superior one bedroom apartment', 'studio suite with club lounge access', 'king size double room', 'easter special executive king room', 'superior room with queen size bed and double sofa bed', 'triple apartment', 'premier junior suite 1 2 adults', 'champagne shopping package double room', 'superior double or twin room for single use', 'junior suite with eiffel tower view', 'superior room with two double beds and balcony', 'superior double room with terrace and private pool', 'deluxe double room with spa access free wifi', 'guest room with balcony', 'king room second floor', 'studio king', 'queen bed leisure', 'andaz double room', 'junior suite with spa access 3 adults', 'king or twin room with river view', 'garden room', 'one bedroom classic suite', 'superior double or twin room 1 2 adults', 'double junior suite', 'grand deluxe room', 'quality double or twin room', 'family room two connecting rooms', 'junior suite avenue', 'boudoir double room', 'design one bedroom suite', 'premium room 2 adults', 'superior double room with terrace and mountain view', 'special offer deluxe room', 'deluxe double room with private patio', 'standard double or twin with view', 'deluxe king room with balcony', 'king room with river view', 'double room with view', 'executive triple room', 'studio twin room 3 adults', '2 adjacent superior rooms', 'grand suite with canal view', 'two adjacent classic rooms', 'classic double room with balcony', 'classic double room with street view', 'standard suite', 'eiffel tower suite', 'duplex king suite', 'apartement', 'superior double or twin room xl with extra bed 2 adults 1 child', 'junior suite with access to the club lounge', 'queen guestroom', 'large garden view king', 'family room', 'deluxe double room with 1 extra bed', 'corner view suite', 'club queen room', 'executive suite 3 adults', 'comfort double or twin room with balcony', 'park suite king', 'suite with garden view and parking', 'deluxe eiffel twin', 'junior deluxe double room', 'business apartment with public transport ticket', 'master bedroom suite', 'junior alcove suite with access to executive lounge', 'junior king suite 3 adults', 'two adjacent deluxe rooms', 'standard double studio', 'double or twin room with terrace and panoramic view', 'executive double', 'double or twin room ladies special', 'standard room with 1 single bed', 'classic room with garden view', 'superior room with view of big ben', 'mansart executive room', 'comfort twin double room', 'deluxe family room with 1 double and 2 single beds 4 adults', 'double queen family suite with access to executive lounge', 'double room 1 or 2 people', 'king executive suite with lounge access', '1 king bed guest room', 'landmark junior suite', 'triple room with park view', 'classic twin room with view', 'quadruple room with sauna access', 'superior double double', 'deluxe family room', 'king room with knightsbridge view', 'classic double room with garden view', 'twin hilton guest room', 'deluxe queen room', 'superior twin room 2 adults', 'condal double or twin room', 'superior double room with massage chair', 'squint splash suite', 'marina suite with canal view', 'superior apartment 2 adults', 'superior double or twin room with patio', 'exclusive guest room 1 king or 2 twin single bed s', 'queen deluxe room', 'two adjoining double rooms', 'comfort room with extra bed', 'premier twin room with city view', 'premium double room with balcony', 'hoxton studio suite', 'triple room luxury xxl king size bed', 'comfort double room', 'deluxe double or twin room with canal view', 'premier king room with city view', '4 rooms', 'superior twin room with cathedral view', 'standard double room non smoking', 'double room trocad ro with spa bath', 'family junior suite 3 adults 1 child', 'park king or twin', 'suite with executive lounge access', 'one bedroom queen suite', 'king hilton guestroom', 'romantic special offer', 'mandarin double or twin room', 'nelson double room', 'park suite view', 'standard twin room with tea time included', 'one bedroom river view suite', 'duplex junior suite', 'junior double room', 'penthouse plaza suite with access to executive lounge', 'twin room 1 2 people', 'luxury double or twin room', 'classic double or twin room with pool access', 'treat your partner package double room', 'junior suite lavender', 'standard double room with view terrace', 'superior room for 1 2 people with kitchenette', 'hoxton family suite', 'executive double room with park view', 'junior suite 2 adults 1 child', 'stayed 4 nights', 'la rouge suite', 'economy double or twin room', 'superior room with one double bed', 'deluxe double plus single bed', 'superior classic double room', 'deluxe double or twin room disability access', 'suite with eiffel tower view', 'royal suite', 'souterrain comfort room', 'family suite with two connecting rooms', 'stayed 25 nights', 'suite elys e', 'standard room with 2 zip beds', 'junior suite with park view', 'suite canal view', 'executive double or twin room la ravissante', 'comfort double or twin room', 'room with river view upper deck', 'superior queen room 2 adults', 'quadruple apartment', 'standard double room with panoramic view', 'skylight deluxe executive room', 'one bedroom studio suite', 'special offer sleep park fly', 'executive queen room non smoking', 'classic twin room with garden view', 'suite with eiffel tower view vip welcome', 'standard triple room', 'superior double room breakfast included', '2 twin beds guest room', 'comfort double or twin room with rambla view', 'deluxe junior partial river view', 'superior double room with view', 'executive queen room mobility access with lounge access', 'double room with shower', 'privilege double room 2 adults 1 child', 'duplex junior suite with spa access', 'studio suite', 'junior suite with queen size bed', 'double or twin room select', 'signature double room', 'attic suite 1 or 2 people', 'executive queen room with eiffel tower view', 'deluxe king room with stadium view', 'executive twin room with whirlpool', 'classic king twin room', 'confort queen room', 'deluxe one bedroom suite with river view', 'standard twin room non smoking', 'superior room with balcony and opera garnier view', 'cozy exchange king', 'luxury twin room', 'double room luxury xxl king size bed', 'executive deluxe room', 'the level executive service room', 'comfort double or twin room for single use', 'triple room with spa bath', 'classic king view', 'marvelous suite', 'junior suite free wifi', 'double or twin room with terrace and spa access', 'economy single room', 'deluxe king room with terrace', 'superior double room with free pool and hammam access', 'executive room', 'mandarin room', 'deluxe park view', 'king junior suite with executive lounge access', 'business double room ground floor', 'club suite with executive lounge access', 'one bedroom apartment with city view', 'champagne shopping package twin room', 'andaz large suite', 'superior room with king bed', 'mandarin junior suite', 'deluxe one bedroom park suite', 'double room insolite', 'superior designer', 'grand junior suite', 'one bedroom suite with park view', 'superior room with 1 queensize bed and double sofa bed', 'room with dock view upper deck', 'executive room 2 adults 2 children', 'champs elys es prestige junior suite', 'superior plus room', 'king room with pool view', 'premium deluxe double room', 'deluxe double room with lounge access', 'park deluxe twin', 'king hilton deluxe room', 'executive with two double beds', 'superior queen room with paris view', 'junior suite 2 adults and 1 child free wi fi', 'marvelous suite exchange', 'single room', 'queen suite', 'standard double or twin room with balcony', 'executive double room single use', 'double double room', 'la petite maison', 'king room with courtyard view', 'business double room 1 adult', 'standard queen room with sofa bed', 'junior suite with bath', 'large comfort double or twin room', 'superior king with balcony', 'prestige room with garden view free wifi', 'room with paris view', 'executive room swimming pool hammam access upon reservation', 'executive penthouse with canal view', 'family room 2 connected double rooms', 'two connecting double rooms 2 adults 2 children', 'executive suite with free airport shuttle service from 5 00am to 00 30am', 'park room', 'premier river king room', 'deluxe room with two single beds', 'studio', 'double room comtesse', 'privilege top floor with terrace', 'mayfair suite with lounge access', 'deluxe double room with connecting doors', 'apartment 1 2 adults', 'suite couture', 'standard room with queen size bed and double sofa bed 3 adults', 'standard double', 'king hilton executive room with access to executive lounge', 'lm club double or twin room', 'superior double room with sofa bed', 'classic room with 1 queen bed', 'deluxe double room 1 2 adults', 'double room annex', 'twin room with city view 1 2 adults', 'twin hilton executive room with access to executive lounge', 'minsters deluxe two bedroom suite', 'superior double room 1 2 adults', 'single room with shared bathroom', 'executive room with views of paris queen size bed and double sofa bed 2 adults 2 children', 'superior room with queen size bed and sofa bed 2 adults', 'junior suite attic', 'one bedroom suite 1 2 adults', 'tiny single room', 'mosaic double room', 'park deluxe king', 'deluxe king room with city view', 'executive twin room 1 2 adults', 'executive room with 1 queen bed and 1 sofa 3 adults', 'junior suite blue', 'superior king room with river view', 'queen guest room mobility accessible', 'double room with 2 tickets for a cruise on the seine river', 'attach suite', 'standard double room with city view', 'suite superior', 'junior suite with view of the eiffel tower', 'deluxe double room with two single beds', 'luxury quadruple room', 'deluxe double room with terrace and private pool', 'park junior suite', 'luxury double room small', 'suite vip welcome', 'atrium', 'standard double or twin room with extra bed 3 adults', 'double room with extra bed 3 adults', 'the level grand premium double or twin room with city view', 'classic double room la parisienne', 'suite with free bottle of champagne and spa fitness access', 'junior suite with twin beds', 'deluxe one bedroom suite', 'exclusive double room', 'one bedroom suite with kitchen', 'deluxe king studio suite', 'romantic double room', 'executive master suite', 'standard double room with view', 'superior twin double room', 'deluxe boulevard twin room', 'townhouse apartment', 'deluxe double room with eiffel tower view', 'king room with balcony', 'deluxe queen room with sofa', 'grand premier king room', 'standard double or twin room 3 adults', 'secret double room', 'stayed 11 nights', 'junior suite with spa access', 'duke of monmouth suite', 'park deluxe executive king', 'river view deluxe', 'deluxe junior suite', 'pasha suite', 'superior double room non smoking', 'standard double room with two single beds', 'classic room with 2 double beds', 'privilege room', 'townhouse suite', 'junior suite 2 adults with free airport shuttle service from 5 00am to 00 30am', 'special offer classic double room', 'deluxe double or twin room with pool access', 'superior room with two double beds and view', 'executive king or twin room with lounge access', 'cosy double room', 'deluxe twin room balcony with eiffel tower view', 'superior double room la s duisante', 'superior suite 3 adults 1 child', 'one bedroom apsley suite', 'two bedroom apartment', 'executive twin room with access to executive lounge', 'twin hilton deluxe room', 'double room baronne', 'comfort double or twin room 1 2 adults', 'superior double or twin room with terrace', 'superior double room ground floor', 'interconnecting double rooms', 'deluxe room with pool access', 'double or twin room 1 adult', 'standard room', 'twin room with park view', 'superior double room with saint germain des pr s church view', 'queen guest room with river view', 'double room with french bed', 'superior queen room non smoking', 'standard single room', 'queen room with mobility access', 'executive room city view', 'superior queen single room', 'double or twin room business advantage', 'bridal suite with view', 'twin hilton guestroom', 'champs elys es prestige room', 'large double room with garden view', 'standard room with 1 double bed and 1 double sofa bed', 'single room with bathroom', 'twin room with private bathroom', 'king room balcony with view on eiffel tower view free wi fi', 'privilege room with a double bed', 'grand superior king or twin room', 'suite with balcony and spa access', 'superior room with queensize bed and double couch 2 adults 2 children', 'studio attrape r ve', 'superior double', 'superior king room eiffel tower view', 'double room with private bathroom', 'deluxe junior suite with lounge access', 'double executive room', 'double or twin room with bath', 'superior room with 2 single beds', 'large double room with champs elysees view', 'double room tour eiffel with shower', 'economy quadruple room', 'two bedroom penthouse apartment', 'art deco room terrace', 'luxury room club sofitel with spa access', 'cabine single room', 'business class room', 'luxury suite triple', 'twin room with executive lounge access', 'fabulous bank king', 'accessible double guest room', 'standard queen or twin room lower ground floor', 'deluxe double room or twin room', 'classic cosy room', 'executive family room 2 adults and 2 children', 'superior one bedroom suite with executive lounge access', 'double or twin room with extra bed 2 adults 1 child', 'double studio', 'deluxe king or queen room', 'business twin room with courtyard view and public transport ticket', 'deluxe double room with balcony non smoking', 'x ordinary room', 'classic double or twin room 1 2 adults', 'ambassador junior suite', 'mega room', 'emotion room', 'group', 'executive room with 1 queen bed', 'standard room with queensize bed and single sofa bed', 'superior double room with free pool access', 'superior room queen bed', 'tradition twin room', 'luxury double room large', 'double room with four poster bed', 'accessible twin guest room', 'king hilton sea view', 'superior double or twin room moon blue', 'budget single room', 'executive double or twin room with city view', 'superior queen room', 'classic queen room', 'executive room with canal view', 'executive studio with london eye view', 'executive room with river view', 'double or twin room with extra bed 3 adults', 'standard twin room with 2 single beds', 'park suite with executive lounge access', 'executive double or twin room with club lounge access', 'double room with terrace', 'double standard', 'king grand premier room', 'luxury 1 bed suite', 'executive double room with sofa bed', 'corner suite 2 adults 1 child', 'superior metropolitan park double room', 'wonderful exchange king', 'double hilton guestroom', 'executive family room', 'quadruple room with shower', 'economy double room', 'paseo de gracia double or twin room', 'superior suite 2 adults', 'deluxe room with city view', 'double deluxe suite', 'junior suite 4 adults', 'superior twin room with pool access', 'studio room', 'design double or twin room', 'superior double room with balcony', 'prestige double room', 'studio twin room', 'superior double room plus l insolente', 'twin room with public transport ticket', 'double or twin room with extra bed', 'standard twin room with bridge view', 'premier room with balcony', 'la mathurin suite', 'family 2 connecting rooms', 'elisabeth suite', 'andaz large king room', 'stayed 16 nights', 'superior twin room with eiffel tower view', 'superior business room with a double bed and sofa bed', 'spectacular room', 'double room with free airport shuttle service from 5 00am to 00 30am', 'executive room with view and lounge access', 'executive room with 1 queen bed and 1 sofa 2 adults', 'family junior suite', 'superior room with 2 double beds', 'penthouse suite with balcony', 'level room with executive lounge access', 'privilege king room', 'deluxe room henry monnier', 'special offer comfort double room with parking', 'premium double or twin room xl', 'executive premium queen room with sofa bed', 'superior room with city view', 'junior suite parisienne', 'stayed 19 nights', 'executive vend me triple room', 'club twin room', 'triple room relax', 'premium superior queen room', 'the level room with executive lounge access', 'large single room', 'deluxe two bedroom suite', 'superior double room with internal view', 'one bedroom apartment', 'classic room with 2 double beds 4 adults', 'executive queen room 2 adults', 'junior suite with double bed', 'junior suite with river view and balcony', 'suite 2 adults 2 children', 'double room with balcony', 'superior room with sofa bed 3 adults', 'superior room 2 single beds', 'standard room sopi', 'comfort single room', 'executive double or twin room 3 adults', 'executive room with terrace', 'single room with double bed', 'executive double room with free access to steam bath', 'queen or two double beds room', 'penta junior suite', 'penthouse junior suite with access to executive lounge', 'superior double or twin room with balcony', 'superior double room with duomo view', 'suite with glass of champagne', 'superior double room with balcony and city view', 'double or twin room 2 adult 1 children', 'large canal view queen', 'executive studio apartment 2 adults 1 child', 'deluxe queen room with balcony', 'double or twin room with extra bed 3 adults with free airport shuttle service from 5 00am to 00 30am', 'junior king suite with pool access', 'suite 2 adults', 'queen room with executive lounge access', 'marquise superior double or twin room', 'standard duplex room 3 adults', 'superior double room with two double beds', 'king guestroom', 'king room with view', 'duplex apartment 6 adults', 'deluxe barcelona city view', 'deluxe suite with executive lounge access', 'deluxe double room', 'eiffel tower view twin room', 'privilege double room with saint germain des pr s church view', 'deluxe triple room with spa access', 'triple family guestroom', 'double hilton guest room plus', 'deluxe double or twin room with balcony', 'superior twin room with courtyard garden or city view', 'superior twin room with private pool', 'smart triple room', 'junior suite with kingsize bed 3 persons', 'smart double or twin room', 'superior queen suite with sofa', 'duplex room 4 adults', 'deluxe twin or double room', 'superior double or twin room with view', 'corner larger executive room with executive lounge access free wifi', 'deluxe twin room 2 adults', 'the duplex', 'junior suite blue sunshine', 'deluxe room with spa access', 'deluxe double room non smoking', 'executive double or twin room', 'junior suite with private garden', 'suite', 'superior quadruple room with balcony', 'prestige king room non smoking', 'premier deluxe twin room', 'classic quadruple room', 'deluxe balcony room', 'chelsea double suite', 'view king room', 'superior twin room with internal view', 'two adjacent superior double rooms', 'executive king room with city view', 'superior double twin room with free parking', 'twin executive plus room', 'junior triple suite', 'junior suite with view and disability access', 'souterrain double room', 'original double room', 'comfort single room with view', 'king room with city view top floors', 'superior room with spa access', 'quality single room', 'kings deluxe junior suite', 'superior studio', 'king room mobility accessible non smoking', 'two adjacent rooms 5 adults', 'double hilton deluxe', 'loft double room', 'executive room with queen size bed and single sofa bed', 'executive king room with sofa bed non smoking', 'deluxe metropolitan city double room', 'executive club twin room', 'single room lower ground floor', 'luxury double room medium', 'solo traveler', 'double or twin room with bathroom', 'double room with spa bath', 'privilege room with extra bed 3 adults', 'executive single room', 'couture junior suite', 'garden king room', 'one bedroom suite with lounge access', 'nhow premium double or twin room', 'junior queen suite with sofa bed', 'horizon suite with dock view', 'superior room with 1 double bed and sofa 3 adults', 'superior double room with sofa', 'interior double or twin room', 'premium family room', 'studio king 3 adults', 'large one bedroom apartment', 'luxury suite with whirlpool', 'luxury room 2 adults with canal view', 'with a pet', 'principe suite', 'luxury suite antique theme', 'discovery double room', 'double or twin room with spa access', 'universitat single room', 'privilege double or twin room courtyard side', 'hilton deluxe king room', 'king corner room', 'suite reloj', 'executive room with queen bed and a sofa non smoking', 'quintuple room', 'small double room annex building', 'superior one bedroom suite', 'single room city', 'comfort double or twin room non smoking', 'deluxe double or twin room with canal view annex building', 'weekend offer standard studio', 'leisure trip', 'duplex suite', 'superior room with extra bed 3 adults', 'junior suite 2 adults', 'classic double room 1 adult', 'terrace junior suite', 'suite with club lounge access', 'double room 1 adult with eiffel tower view', 'double room crash pad', 'grand suite', 'deluxe double room with balcony', 'penthouse suite', 'king waterfront suite with access to executive lounge', 'deluxe suite 4 adults', 'superior room non smoking', 'park executive suite', 'comfort club double or twin room', 'king executive plus room', 'queen superior room', 'double room with extra bed 2 adults 1 child', 'king junior suite with lounge access', 'superior garden view room', 'large penthouse suite with terrace and city view', 'superior junior suite single use', 'queensgate twin room', 'superior twin room with extra bed 2 adults 1 child', 'special offer room with continental breakfast', 'club junior suite', 'standard room with queen bed and sofa', 'premium triple room', 'hyatt twin room', 'loft double room with terrace', 'bunk bed room', 'privilege junior suite with spa access', 'superior room with queen bed', 'superior m double room', 'queen family room', 'artist s studio king junior suite with spa access', 'junior suite split level with lounge access', 'chic twin or double room', 'standard double or twin room', 'double room with city view top floor', 'superior room with spa fitness access', 'canal view deluxe triple room with spa bath annex building', 'grand deluxe double or twin room', 'the rooks nest', 'superior apartment 4 adults', 'double or twin room 1 or 2 adults', 'suite with st stephen s cathedral view', 'suite with hammam', 'royal penthouse with canal view', 'executive double or twin room with terrace', 'double room medium heritage', 'junior suite immersive art experience', 'deluxe double room with spa bath', 'tower suite with lounge access', 'superior room 3 persons', 'junior suite courtyard', 'premier double or twin room with extra bed', 'club eiffel tower king room', 'luxury king room 3 adults', 'hyatt king room', 'premium double or twin room with terrace and spa access', 'standard room with spa access', 'city king or twin room', 'superior room queen size bed and double sofa bed', 'deluxe quadruple room with paris view', 'emperor suite', 'privilege double room with free pool and hammam access', 'suite duplex', 'double room attic', 'deluxe apartment', 'executive room free executive lounge access', 'deluxe guest room', 'superior double or twin room with free airport shuttle service from 5 00am to 00 30am', 'suite 5 adults', 'special offer double room park and sleep inklusive breakfast', 'stayed 26 nights', 'deluxe triple room with canal view', 'junior family suite 2 adults', 'grand historique suite', 'queen or twin room', 'junior suite double or twin', 'duplex room', 'premier king room barlow wing', 'executive junior suite with sea view', 'single room with sauna access', 'standard double room with sea view', 'deluxe double room with club lounge access', 'premier single room', 'kings one bedroom suite', 'cosy twin room', 'executive king twin room', 'twin room with sea view', 'premium king room with view', 'king or queen studio', 'superior king room barlow wing', 'single room tea time wine tasting included', 'junior suite with lounge access', 'adjacent double rooms', 'two connecting double rooms', 'park twin', 'standard double room with bridge view', 'superior room design style free wifi', 'suite cocotte', 'double accessible guest room', 'penthouse suite family', 'bunk bed in twin room pigalle 12', 'two connecting double rooms 4 adults', 'canal view superior deluxe room with spa bath', 'urban triple room', 'double room with arc de triomphe view a glass of champagne', 'park deluxe view twin', 'double room rouge epic e', 'double room with canal view', 'two adjacent rooms', 'classic triple room 2 adults', 'courtyard suite with st stephen s cathedral view', 'standard family room', 'double room medium', 'twin deluxe with canal view', 'superior deluxe double room', 'hyatt king room with view', 'studio king family', 'mini room', 'deluxe twin room annex', 'one bedroom suite with courtyard view', 'two connecting double rooms with pool access', 'suite with spa access 3 adults', 'junior suite with free bottle of champagne', 'queen room with roll in shower mobility access non smoking', 'family junior suite 4 adults', 'basic double', 'marina double suite', 'small double or twin room', 'two connected double rooms', 'kings three bedroom suite', 'superior double or twin room with extra bed 3 adults', 'junior suite with living room', 'falconers one bedroom suite', 'premium deluxe double room with river view', 'standard double room with park view', 'superior queen suite with sofa bed 3 adults', 'basic single room', 'junior suite with free access to steam bath', 'classic guest room 1 king or 2 twin single bed s', 'deluxe king room', 'double room moulin rouge with shower', 'premier shard king room', 'superior room with 1 kingsize bed', 'special offer classic room', 'large comfort twin room disability access', 'stayed 2 nights', 'junior suite sans mod ration', 'montcalm club twin room', 'shoreditch suite', 'king room with sea view', 'executive suite 1 king', 'classic double room with city view', 'cosy room', 'minsters deluxe one bedroom suite', 'deluxe double room 2 adults 1 child', 'two bedroom superior suite', 'double room ground floor', 'executive premium room with a queen bed', 'superior double room with queen size bed', 'king room disability access non smoking', 'one bedroom suite with executive lounge access', 'garden view queen', 'gallery suite', 'classic double or twin room', 'curve suite with lounge access', 'standard room 1 2 adults', 'double room xl', 'suite trocadero balcony with eiffel tower view', 'executive suite with view', 'stayed 18 nights', 'executive double or twin room with executive lounge access', 'small queen room', 'superior suite with view', 'apartment for 3 to 4 people with kitchenette', 'luxury double room mezzanine', 'deluxe king guestroom', 'double room free wi fi', 'paris style queen or twin room with spa access', 'junior conservatory with king bed', 'double room with courtyard view', 'double room with city view 1 adult', 'deluxe king guestroom with view', 'deluxe double or twin room with parking', 'small double room with extra bed annex building', 'queen suite with city view', 'one bedroom king suite with sofa bed', 'prestige double room with eiffel tower view', 'couple', 'deluxe double room with garden view', 'superior queen room with extra bed 2 adults', 'premier double room', 'palais suite', 'double queen waterfront', 'superior room with 1 double bed and 1 single bed', 'deluxe studio apartment 2 adults', 'superior queen suite with sofa 3 adults', 'deluxe studio suite', 'privilege double or twin room with spa access', 'family quadruple room', 'fabulous sky room', 'family room sleeps four', 'executive twin room with access to the level lounge', 'three bedroom luxury apartment', 'superior room with balcony with spa access', 'room with dock view main deck', 'studio deluxe suite', 'two bedroom suite with private access to pool and spa', 'executive suite with lounge access', 'club king room with lounge access', 'deluxe queen room with river view', 'executive room with one queensize bed with balcony', 'room with ramblas view', 'dalston king', 'elegance double or twin room', 'standard room with double bed and sofa bed', 'deluxe double with terrace', 'deluxe double or twin room with vip services', 'hilton superior king room', 'junior suite with private pool', 'superior room with queensize bed and single sofa bed 2 adults 1 child', 'two connecting rooms with free access to hamman', 'standard double room single use', 'eiffel suite', 'grand premium double or twin with sea view', 'terrace suite with lounge access', 'standard double or twin room tea time wine tasting included', 'master suite with club lounge access', 'superior room swimming pool hammam access upon reservation', 'emotion room with terrace', 'superior double or twin room with courtyard view', 'junior suite with private pool spa access', 'master suite', 'deluxe double or twin room with city view', 'studio with courtyard view', 'deluxe twin room 3 adults', 'amsterdam street art queen guest room', 'spectacular double room', 'one bedroom apartment penthouse', 'stayed 23 nights', 'luxury room 3 adults with canal view', 'superior room with double bed and sofa bed', 'privilege room with king bed', 'standard double room pigalle 15', 'grand duplex suite', 'double room radieuse', 'junior suite with canal view', 'executive king suite with lounge access', 'deluxe duplex room', 'bobo queen or twin room with spa access', 'family room with balcony', 'large double or twin room', 'deluxe triple room', 'ashburn suite', 'westminster suite with king bed', '2 connecting rooms 4 people', 'deluxe double with winter garden view', 'superior room with 1 queen bed and sofa 3 adults', 'parisian junior suite', 'superior double room with garden view', 'room assigned at check in', 'deluxe eiffel tower king room', 'business king room', 'penta playerpad suite', 'king double or twin room', 'double room with river view', 'deluxe king room with club lounge access', 'penta plus room', 'city room', 'deluxe one bedroom apartment', 'business studio suite', 'superior king room non smoking', 'superior double room 3 adults', 'twin room with partial sea view', 'superior queen room with extra bed 3 adults', 'standard twin room with arc de triomphe view', 'junior suite with executive lounge access and free wifi', 'executive double room with square view', '2 connecting rooms 4 adults', 'deluxe premium king room', 'two connecting double and twin rooms', 'junior double', 'classic king room', 'superior queen room with double sofa', 'standard quad room', 'superior room with 1 queen bed and sofa', 'single room with courtyard view', 'junior suite with club lounge access', 'twin plaza executive room', 'superior double or twin room with parking', 'special offer only for cruise passengers', 'superior king or double room', 'family apartment 2 adults 2 children', 'deluxe double room corner', 'stayed 15 nights', 'small double room without window', 'deluxe double room with view and disability access', 'deluxe double or twin room with spa access', 'two adjacent double rooms with free pool and hammam access', 'double room l', 'family room 4 guest', 'deluxe king room with garden view', 'twin room with free airport shuttle service from 5 00am to 00 30am', 'deluxe room with view', 'superior pantheon room', 'grand premier suite', 'deluxe imperial room', 'club double room', 'deluxe quadruple room with canal view', 'deluxe family room with two double beds with paris view', 'deluxe room 3 adults', 'queen room with eiffel tower view', 'twin room mobility access', 'classic double room with courtyard view', 'congress suite', 'double family guestroom', 'twin junior suite city view with access to executive lounge', '2 connecting deluxe rooms with vip service for kids', 'king room non smoking', 'studio triple', 'double room non smoking', 'single room with shower', 'comfort family room', 'premium double or twin room with garden view', '4 person suite', 'comfort room', 'imperial suite', 'family room 5 adults', 'junior suite with terrace', 'classic double room for single use', 'superior twin or double room', 'double room with public transport ticket', 'double deluxe room', 'deluxe double or twin room with sea view', 'executive triple room 2 adults 1 child', 'deluxe', 'premium double room with garden view', 'one bedroom suite with kitchenette', 'prestige family room', 'executive king', 'garden view twins', 'superior queen room with sofa bed non smoking', 'eiffel tower junior suite', 'executive premium queen room', 'family room 2 adults 2 children', 'junior suite with executive lounge access', 'junior suite with queen bed 3 adults', 'junior suite double 1 2 adults', 'deluxe double room with balcony and free pool access', 'deluxe double or twin room 2 adults 1 child', 'single studio', 'deluxe double or twin room with spa bath', 'executive king room with panoramic view', 'superior executive room with executive lounge access', 'royal suite split level with spa bath annex building', 'queen room with sofa bed', 'superior room 3 adults', '3 rooms', 'double room gwr tower', 'standard queen room with two queen beds', 'deluxe twin room with spa access', 'deluxe family room with view', 'corner double room', 'classic room with one queen bed', 'premier deluxe double room', 'king suite with sofa bed non smoking', 'family apartment 4 adults with spa access', 'basic double room nr', 'king hilton guest room', 'deluxe double or twin room with opera view', 'king junior suite', 'triple room', 'double queen executive waterfront with access to executive lounge', 'twin executive room with lounge access', 'king room with disability access non smoking', 'superior romantic double room', 'oscar wilde room', 'privilege room with double bed', 'basic twin room', 'superior double studio', 'mezzanine suite', 'twin room with city view', 'mezzanine room', 'studio double room', 'stayed 27 nights', 'two connecting superior double rooms', 'premium king room', 'premium double room with terrace', 'deluxe room with two double beds', 'standard double room with sofa', 'petite double room', 'deluxe single room with view', 'superior twin room with free pool access', 'two adjoining rooms with dock view main deck', 'double room with park view', 'deluxe king room with club lounge access and balcony', 'studio double family', 'double room large heritage', 'premium double room with views', 'standard room with 1 queen bed and sofa 3 adults', 'universitat double or twin room', 'junior king suite with view 2 adults', 'comfort triple room', 'standard double room without window', 'cool corner exchange', 'family duplex room', 'art deco deluxe room view and terrace', 'luxury suite with garden view', 'king room with hyde park view', 'king room with executive lounge access', 'premier double room with panoramic view and executive lounge access', 'deluxe with garden', 'standard double twin room', 'budget double room', 'stayed 29 nights', 'superior two bedroom apartment', 'junior suite with gallery view', 'superior suite water front', 'prestige room swimming pool hammam access upon reservation', 'triple room with terrace', 'deluxe premium double room', 'four connecting rooms', 'deluxe twin room', 'double room intemporelle', 'suite with spa access 1 adult', 'junior suite give me the night', 'executive double room with lounge access', 'stayed 10 nights', 'royal duplex suite', 'executive queen room with two queen beds with lounge access', 'jimmie martin penthouse suite', 'executive deluxe double room with spa access', 'standard double or twin room with balcony 1 adult', 'family studio', 'modern double room echo', 'guest queen room with two queen beds', 'loft', 'premium double or twin room', 'city suite', 'stayed 20 nights', 'superior queen room with pool access', 'deluxe double room with free access to hamman', 'queen room with balcony', 'deluxe double room with separate lounge area', 'executive club double room', 'executive double room with terrace', 'corner suite', 'classic room with courtyard view', 'classic room with 2 double beds 2 adults', 'double or twin room with garden view', 'deluxe king room balcony with eiffel tower view', 'cosy single room', 'large room', 'double room audacieuse', 'executive double or twin room with no view', 'luxury junior suite', 'superior double or twin room with extra bed', 'business double room with courtyard view and public transport ticket', 'family suite with adjoining rooms', 'queen guest room with sofa bed', 'single room joy', 'couture suite', 'superior double or twin room with extra bed 2 adults 1 child', 'suite king', 'executive room selected at check in', 'single room non smoking', 'double room with st stephen s cathedral view', 'standard king room non smoking', 'deluxe king', 'superior double room with park view', 'privilege super king or twin room', 'economy single room basement no window', 'economy twin room', 'superior premium queen room', 'superior twin room', 'junior suite cathedral view with access to executive lounge', 'signature room', 'stayed 8 nights', 'classic junior suite', 'king hilton waterfront', 'king suite non smoking', 'cool corner suite', 'deluxe double room without window', 'suite 1 2 adults', 'park deluxe view', 'suite with free pool and hammam access', 'suite free executive lounge access', 'junior suite with access to executive lounge', 'park queen', 'junior suite saint honor', 'executive studio city view family', 'marvellous suite', 'luxury suite superior', 'two bedroom family room', 'deluxe double room with two double beds', 'superior deluxe double or twin room', 'premium view double room', 'suite juliana', 'special offer queen room', 'luxury triple room with garden view', 'club single room', 'double or twin room with terrace', 'deluxe family room 3 adults', 'comfort double room with terrace', 'superior deluxe double room pigalle 22', 'two bedroom deluxe suite', 'connecting double rooms', 'special offer double room park and sleep', 'junior suite with courtyard view', 'family superior room', 'presidential suite', 'deluxe studio', 'superior suite 3 adults', 'junior suite with spa access free wifi', 'special offer princess relax', 'quadruple suite', 'executive double room with spa access', 'superior room with 1 queensize bed canal view', 'premium room', 'deluxe two bedroom apartment', 'club double room with lounge access', 'cabin single room', 'wonderful double room', 'superior deluxe room with spa bath', 'junior suite 2 adults 2 children', 'club suite with club lounge access', 'comfort quadruple room', 'single room with spa access', 'river twin suite', 'one bedroom city suite', 'family room free wi fi', 'two connecting rooms 2 adults 2 children', 'twin bed suite', 'suite breakfast and bottle of champagne included', 'premium quadruple room', 'standard room with 1 queen bed', 'standard double room with parking', 'premium junior suite with king size bed', 'top deluxe room', 'family room 4 adults', 'double room cosy', 'executive double room with spa fitness access', 'superior studio apartment', 'supreme twin room', 'double room with two double beds', 'triple room free wi fi', 'junior suite with vip services', 'comfort single room with shower', 'classic single room with garden view', 'superior double room with terrace and city view', 'executive double twin city view', 'standard guest room', 'prestige triple room', 'superior double or twin room with free wifi', 'standard family suite with two connecting rooms', 'superior king room with pool view', 'junior suite with spa bath', 'double room with sofa bed non smoking', 'junior suite 3 adults or 2 adults 1 child', 'belgravia suite', 'deluxe plus double room', 'two bedroom family', 'stayed 6 nights', 'standard double room with sofa bed', 'superior premium room with queen bed sofa', 'one bedroom suite with sea view', 'deluxe double', 'deluxe king room wheelchair accessible', 'two adjoining rooms with dock view upper deck', 'park king', 'deluxe triple suite', 'executive room with executive lounge access free wifi', 'squint penthouse suite', 'superior double room single use', 'apartments 4 adults', 'cool corner room', 'accessible twin room', 'accessible studio suite', 'double or twin junior suite', 'corner twin room', 'privilege room with 1 kingsize bed', 'suite with river view', 'privilege suite', 'four seasons executive king suite', 'penthouse suite with view', 'stayed 12 nights', 'king magistrate suite', 'club suite', 'standard guestroom', 'deluxe twin room with city view', 'hilton superior double room', 'junior suite with bath and shower', 'double room with single bed', 'studio suite with lounge access', 'family room 2 adults 3 children', 'twin guest room plus', 'one bedroom deluxe suite', 'submitted from a mobile device', 'standard triple room with queen bed and sofa bed', 'queensgate triple room', 'executive queen room with sofa bed 3 adults', 'king suite', 'king superior plus room', 'executive king suite', 'souterrain twin room', 'privil ge suite with 1 double bed and sofa', 'four seasons king junior suite', 'double room with eiffel tower view', 'ambassadors room', 'superior room', 'superior double room with terrace and jacuzzi', 'double room 2 adults 1 child', 'junior suite with balcony', 'junior suite with hydromassage shower', 'superior queen suite with sofa bed 2 adults', 'large twin room', 'family room with view', 'stanhope suite', 'classic single room', '5 rooms', 'club double or twin room with executive lounge access', 'city king room', 'exclusive suite eiffel', 'superior room with club lounge access free wifi', 'prestige one bedroom suite with river view', 'luxury four poster', 'deluxe room with 1 double bed', 'king one bedroom suite with living room', 'king suite non smoking with executive lounge access', 'junior suite canal view', 'double room', 'triple room with spa access', 'queensgate double room', 'suite with city view', 'special offer deluxe double room', 'marina twin suite', 'superior double room with extra bed', 'standard double or twin room with extra bed 2 adults 1 child', 'double family guest room', 'family room with bathroom', 'superior double or twin room with canal view', 'king city view room', 'double or twin room with view', 'king suite with sofa bed 3 adults', 'executive double room with executive lounge access', 'twin hilton room plus', 'executive double room with air conditioning', 'city twin room with surprise package', 'large family suite', 'deluxe double or twin room with panoramic sea view', 'deluxe pantheon room', 'double room d couverte', 'superior family room 2 adults 2 children', 'privilege twin room', 'romantic offer double room', 'duomo suite', 'classic twin or double room', 'stayed 13 nights', 'family king room', 'executive suite with queen bed and sofa bed 2 adults', 'king plaza executive room', 'double room with city view 1 2 adults', 'superior room with 1 double bed', 'large canal view king', 'super deluxe double room', 'deluxe suite', 'deluxe contemporary room', 'king grand premier with canal view', 'superior room with 1 single bed', 'executive queen room with sofa bed', 'classic double room with free access to hamman', 'executive club room', 'junior suite 3 adults with paris view', 'executive double room eiffel tower view with 1 queensize and sofa bed', 'premier double or twin room', 'classic triple room 3 adults', 'queen room', 'junior suite premium with spa access', 'prestige twin room', 'double or twin room 2 adults', 'suite aurore', 'park deluxe queen', 'executive room with queen size bed and single sofa bed 2 adults 1 child', 'grand executive club room', 'art deco room balcony', 'deluxe room with whirlpool', 'suite family room 2 adults 2 children', 'prestige suite with private terrace', 'hilton relaxation room', 'duplex twin room', 'executive double room studio d artiste', 'queen hilton deluxe', 'deluxe room with spa access free wifi', 'double room with sofa bed', 'deluxe king room disability access', 'rooftop suite', 'op ra junior suite', 'plaza club room', 'deluxe double or twin room with mountain view', 'family room 2 adults 1 children', '3 connecting rooms', 'wonderful room', 'art deco double room', 'suite with duomo view', 'stayed 14 nights', 'superior double or twin room xl with extra bed 3 adults', 'superior double or twin room tea time wine tasting included', 'comfort double or twin room with extra bed', 'panorama suite', 'deluxe accessible twin room with view', 'twin room with pool view', 'director s double room', 'executive studio suite', 'junior suite triple', 'queen room with two queen beds 4 adults', 'one bedroom king suite', 'standard double room', 'double room single use', 'royal room with ramblas view', 'royal mews view classic double', 'lower ground double room', 'superior double or twin room with pool spa access', 'one double suite nonsmoking', 'special room', 'deluxe double studio', 'superior double room new style', 'deluxe double room with river view', 'corner suite with lounge access', 'superior twin room with airconditioning', 'panoramic room', 'spring package deluxe double or twin room', 'deluxe double room with courtyard view', 'twin grand deluxe room', 'non smoking standard room with 1 double bed', 'standard double room with two double beds', 'superior room with 1 queen bed', 'executive double room with double bed and sofa bed', 'superior suite with 1 double bed and 2 single beds', 'spare room double', 'family room with two double beds', 'classic double room loge classique', 'green park suite', 'canal view king', 'superior room pigalle', 'special offer superior queen room', 'double or twin room single use', 'double room 1 adult', 'two adjacent double rooms', 'deluxe double room with gallery view', 'junior suite executive', 'deluxe double room swimming pool hammam access upon reservation', 'family room with spa access', 'executive junior suite', 'suite with balcony', 'club room', 'junior suite with pool access', 'adjacent rooms', 'large suite', 'view queen', 'triple executive room', 'king junior suite city view with access to executive lounge', 'king room with sofa bed and balcony', 'superior twin room with tea time included', 'comfort double room courtyard side', 'superior king room with lounge access', 'single room with arc de triomphe view', 'signature suite', 'penta standard room', 'luxury double room with balcony and river view', 'deluxe single room with shared bathroom', 'stayed 3 nights', 'king suite with sofa bed 4 adults', 'superior king room', 'twin deluxe room', 'deluxe double room pigalle 21', 'executive twin room with city view', 'special offer twin room', 'standard studio suite', 'double room op ra garnier with spa bath', 'executive double or twin room with harbour view', 'executive room with two double beds', 'single hilton guest room', 'one bedroom suite with sofa bed', 'deluxe king or twin room', 'standard room with 1 queen bed and sofa', 'king deluxe room', 'premium double or twin room with sea view', 'suite deluxe'}\n"
     ]
    },
    {
     "data": {
      "text/plain": [
       "2400"
      ]
     },
     "execution_count": 8,
     "metadata": {},
     "output_type": "execute_result"
    }
   ],
   "source": [
    "\n",
    "# global variable\n",
    "tag_sum_list = []\n",
    "\n",
    "def get_tag_sum_elems(tag_sum_string):\n",
    "    global tag_sum_list # use the global variable\n",
    "    # extend the global variable with this_list\n",
    "    tag_sum_list.extend(tag_sum_string)\n",
    "    return True\n",
    "\n",
    "for i in hoteltags_geo['new_tags']:\n",
    "    get_tag_sum_elems(i)\n",
    "\n",
    "tag_sum_set = set(tag_sum_list)\n",
    "print(tag_sum_set)\n",
    "len(tag_sum_set)"
   ]
  },
  {
   "cell_type": "code",
   "execution_count": 9,
   "metadata": {},
   "outputs": [
    {
     "data": {
      "text/plain": [
       "0       None\n",
       "1       None\n",
       "2       None\n",
       "3       None\n",
       "4       None\n",
       "        ... \n",
       "1469    None\n",
       "1470    None\n",
       "1471    None\n",
       "1472    None\n",
       "1473    None\n",
       "Name: new_tags, Length: 1474, dtype: object"
      ]
     },
     "execution_count": 9,
     "metadata": {},
     "output_type": "execute_result"
    }
   ],
   "source": [
    "# removing 'submitted from a mobile device' since this attribute has contributing factor to our investigation\n",
    "hoteltags_geo['new_tags'].apply(lambda x: x.remove('submitted from a mobile device'))"
   ]
  },
  {
   "cell_type": "code",
   "execution_count": 10,
   "metadata": {},
   "outputs": [],
   "source": [
    "#function to output the list of hotel with the respective attribute\n",
    "def get_special(s):\n",
    "    spike_cols = [col for col in tag_sum_set if s in col]\n",
    "    hotel_list = set()\n",
    "    for i in range(0, len(hoteltags_geo.tags)):\n",
    "        for j in range(0,len(spike_cols)):\n",
    "            if spike_cols[j] in hoteltags_geo.new_tags[i]:\n",
    "                hotel_list.add(hoteltags_geo[hoteltags_geo.index==i]['hotel_name'][i])\n",
    "                \n",
    "    return hoteltags_geo[hoteltags_geo.hotel_name.isin(list(hotel_list))][['hotel_name','lat_x','lng_x','city']]\n"
   ]
  },
  {
   "cell_type": "code",
   "execution_count": 11,
   "metadata": {},
   "outputs": [],
   "source": [
    "#plotting function to map out the location\n",
    "def get_map(df,imagepath):\n",
    "    if df.shape[0]<15:\n",
    "            map2 = folium.Map(location=[df.iloc[0].lat_x,df.iloc[0].lng_x], zoom_start=12)\n",
    "    elif df.shape[0]>15:\n",
    "        map2 = folium.Map(location=[df.iloc[0].lat_x,df.iloc[0].lng_x], zoom_start=2)\n",
    "\n",
    "    #generate folium\n",
    "    map2 = folium.Map(location=[df.iloc[0].lat_x,df.iloc[0].lng_x], zoom_start=12)\n",
    "    folium.raster_layers.TileLayer('Open Street Map').add_to(map2)\n",
    "    for i in range(0,len(df)):\n",
    "        folium.Marker(\n",
    "        location=[df.iloc[i].lat_x,df.iloc[i].lng_x],\n",
    "            tooltip=df.iloc[i].hotel_name,\n",
    "        icon=folium.Icon(icon_color='white')\n",
    "    ).add_to(map2)\n",
    "    map2.save(imagepath)\n",
    "    return map2\n"
   ]
  },
  {
   "cell_type": "markdown",
   "metadata": {},
   "source": [
    "In the following section, I will be refactoring the attributes. \n",
    "1. I will be collating the attributes into a array. \n",
    "2. Introduce relabelled attribute to indicate its presence in each hotel. \n",
    "3. Remove the grouped attributes and we will achieve the refactored attributes."
   ]
  },
  {
   "cell_type": "code",
   "execution_count": 12,
   "metadata": {},
   "outputs": [],
   "source": [
    "grp_col=['single room','river view','private pool','breakfast','spa bath','twin room','double room'\n",
    "       ,'superior room','king room','executive room','city view','sea view','stayed '\n",
    "       ,'eiffel twin','eiffel tower view','suite','triple room','penthouse','standard room','wheelchair accessible',\n",
    "      'family room ','deluxe room','apartment','terrace']\n",
    "newarray=[]\n",
    "\n",
    "for i in grp_col:\n",
    "    newarray.extend([col for col in tag_sum_set if i in col])"
   ]
  },
  {
   "cell_type": "code",
   "execution_count": 13,
   "metadata": {},
   "outputs": [],
   "source": [
    "grp_col=['single room','river view','private pool','breakfast','spa bath','twin room','double room'\n",
    "       ,'superior room','king room','executive room','city view','sea view','stayed '\n",
    "       ,'eiffel twin','eiffel tower view','suite','triple room','penthouse','standard room','wheelchair accessible',\n",
    "      'family room ','deluxe room','guest room','apartment','terrace']"
   ]
  },
  {
   "cell_type": "code",
   "execution_count": 14,
   "metadata": {},
   "outputs": [],
   "source": [
    "#function to refactor the attributes\n",
    "def new_fn(a,b):\n",
    "    efv= list(get_special(a).index)\n",
    "    for i in efv:\n",
    "        hoteltags_geo.iloc[i].new_tags.add(b)"
   ]
  },
  {
   "cell_type": "code",
   "execution_count": 15,
   "metadata": {},
   "outputs": [
    {
     "data": {
      "text/plain": [
       "{'2 rooms',\n",
       " '4 rooms',\n",
       " 'business trip',\n",
       " 'classic double room',\n",
       " 'classic single room',\n",
       " 'classic twin room',\n",
       " 'comfort double room',\n",
       " 'couple',\n",
       " 'deluxe double room with eiffel tower view',\n",
       " 'deluxe eiffel twin',\n",
       " 'deluxe twin room with eiffel tower view',\n",
       " 'family with older children',\n",
       " 'family with young children',\n",
       " 'group',\n",
       " 'leisure trip',\n",
       " 'solo traveler',\n",
       " 'stayed 1 night',\n",
       " 'stayed 2 nights',\n",
       " 'stayed 3 nights',\n",
       " 'stayed 4 nights',\n",
       " 'stayed 5 nights',\n",
       " 'stayed 6 nights',\n",
       " 'suite',\n",
       " 'suite with eiffel tower view',\n",
       " 'superior double room',\n",
       " 'travelers with friends'}"
      ]
     },
     "execution_count": 15,
     "metadata": {},
     "output_type": "execute_result"
    }
   ],
   "source": [
    "hoteltags_geo.iloc[323].new_tags"
   ]
  },
  {
   "cell_type": "code",
   "execution_count": 16,
   "metadata": {},
   "outputs": [],
   "source": [
    "# to group/refactor hotel attributes to new attributes\n",
    "new_fn(\"single room\",\"single_room\")\n",
    "new_fn(\"river view\",\"river_view\")\n",
    "new_fn(\"private pool\",\"private_pool\")\n",
    "new_fn(\"breakfast\",\"break_fast\")\n",
    "new_fn(\"spa bath\",\"spa_bath\")\n",
    "new_fn(\"twin room\",\"twin_room\")\n",
    "new_fn(\"double room\",\"double_room\")\n",
    "new_fn(\"superior room\",\"superior_room\")\n",
    "new_fn(\"king room\",\"king_room\")\n",
    "new_fn(\"executive room\",\"executive_room\")\n",
    "new_fn(\"city view\",\"city_view\")\n",
    "new_fn(\"sea view\",\"sea_view\")\n",
    "new_fn(\"eiffel tower view\",\"eiffel_tower_view\")\n",
    "new_fn(\"suite\",'_suite_')\n",
    "new_fn(\"triple room\",'triple_room')\n",
    "new_fn(\"penthouse\",'_penthouse_')\n",
    "new_fn(\"standard room\",'standard_room')\n",
    "new_fn(\"wheelchair accessible\",'wheelchair_accessible')\n",
    "new_fn(\"family room \",'family_room')\n",
    "new_fn(\"deluxe room\",'deluxe_room')\n",
    "new_fn(\"guest room\",'guest_room')\n",
    "new_fn(\"apartment\",'_apartment_')\n",
    "new_fn(\"terrace\",'_terrace')\n"
   ]
  },
  {
   "cell_type": "code",
   "execution_count": 17,
   "metadata": {},
   "outputs": [],
   "source": [
    "# to remove attributes which are not used after replacing with generic attribute\n",
    "for i in range(0, len(hoteltags_geo.new_tags)):\n",
    "    for j in range(0,len(newarray)):\n",
    "        if newarray[j] in hoteltags_geo.new_tags[i]:\n",
    "            hoteltags_geo.new_tags[i].remove(newarray[j])"
   ]
  },
  {
   "cell_type": "code",
   "execution_count": 18,
   "metadata": {},
   "outputs": [
    {
     "data": {
      "text/plain": [
       "514"
      ]
     },
     "execution_count": 18,
     "metadata": {},
     "output_type": "execute_result"
    }
   ],
   "source": [
    "# global variable\n",
    "tag_sum_list = []\n",
    "\n",
    "def get_tag_sum_elems(tag_sum_string):\n",
    "    global tag_sum_list # use the global variable\n",
    "    # extend the global variable with this_list\n",
    "    tag_sum_list.extend(tag_sum_string)\n",
    "    return True\n",
    "\n",
    "for i in hoteltags_geo['new_tags']:\n",
    "    get_tag_sum_elems(i)\n",
    "\n",
    "tag_sum_set = set(tag_sum_list)\n",
    "len(tag_sum_set)"
   ]
  },
  {
   "cell_type": "code",
   "execution_count": 19,
   "metadata": {},
   "outputs": [],
   "source": [
    "for i in tag_sum_list:\n",
    "    hoteltags_geo[i] = 0"
   ]
  },
  {
   "cell_type": "code",
   "execution_count": 20,
   "metadata": {},
   "outputs": [
    {
     "data": {
      "text/html": [
       "<div>\n",
       "<style scoped>\n",
       "    .dataframe tbody tr th:only-of-type {\n",
       "        vertical-align: middle;\n",
       "    }\n",
       "\n",
       "    .dataframe tbody tr th {\n",
       "        vertical-align: top;\n",
       "    }\n",
       "\n",
       "    .dataframe thead th {\n",
       "        text-align: right;\n",
       "    }\n",
       "</style>\n",
       "<table border=\"1\" class=\"dataframe\">\n",
       "  <thead>\n",
       "    <tr style=\"text-align: right;\">\n",
       "      <th></th>\n",
       "      <th>hotel_name</th>\n",
       "      <th>tags</th>\n",
       "      <th>lat_x</th>\n",
       "      <th>lng_x</th>\n",
       "      <th>city</th>\n",
       "      <th>new_tags</th>\n",
       "      <th>_suite_</th>\n",
       "      <th>king_room</th>\n",
       "      <th>solo traveler</th>\n",
       "      <th>family with older children</th>\n",
       "      <th>...</th>\n",
       "      <th>king superior plus room</th>\n",
       "      <th>king loft</th>\n",
       "      <th>king premier room</th>\n",
       "      <th>king grand premier with canal view</th>\n",
       "      <th>twin grand premier with canal view</th>\n",
       "      <th>luxury quadruple room</th>\n",
       "      <th>large room</th>\n",
       "      <th>art room with iconic view</th>\n",
       "      <th>art room xl with iconic view</th>\n",
       "      <th>penta plus room</th>\n",
       "    </tr>\n",
       "  </thead>\n",
       "  <tbody>\n",
       "    <tr>\n",
       "      <th>0</th>\n",
       "      <td>11 Cadogan Gardens</td>\n",
       "      <td>[' Leisure trip ', ' Couple ', ' Superior Quee...</td>\n",
       "      <td>51.493616</td>\n",
       "      <td>-0.159235</td>\n",
       "      <td>Chelsea</td>\n",
       "      <td>{_suite_, king_room, solo traveler, family wit...</td>\n",
       "      <td>0</td>\n",
       "      <td>0</td>\n",
       "      <td>0</td>\n",
       "      <td>0</td>\n",
       "      <td>...</td>\n",
       "      <td>0</td>\n",
       "      <td>0</td>\n",
       "      <td>0</td>\n",
       "      <td>0</td>\n",
       "      <td>0</td>\n",
       "      <td>0</td>\n",
       "      <td>0</td>\n",
       "      <td>0</td>\n",
       "      <td>0</td>\n",
       "      <td>0</td>\n",
       "    </tr>\n",
       "    <tr>\n",
       "      <th>1</th>\n",
       "      <td>1K Hotel</td>\n",
       "      <td>[' Leisure trip ', ' Couple ', ' Superior M Do...</td>\n",
       "      <td>48.863932</td>\n",
       "      <td>2.365874</td>\n",
       "      <td>Paris</td>\n",
       "      <td>{travelers with friends, double_room, _suite_,...</td>\n",
       "      <td>0</td>\n",
       "      <td>0</td>\n",
       "      <td>0</td>\n",
       "      <td>0</td>\n",
       "      <td>...</td>\n",
       "      <td>0</td>\n",
       "      <td>0</td>\n",
       "      <td>0</td>\n",
       "      <td>0</td>\n",
       "      <td>0</td>\n",
       "      <td>0</td>\n",
       "      <td>0</td>\n",
       "      <td>0</td>\n",
       "      <td>0</td>\n",
       "      <td>0</td>\n",
       "    </tr>\n",
       "    <tr>\n",
       "      <th>2</th>\n",
       "      <td>25hours Hotel beim MuseumsQuartier</td>\n",
       "      <td>[' Leisure trip ', ' Solo traveler ', ' Standa...</td>\n",
       "      <td>48.206474</td>\n",
       "      <td>16.354630</td>\n",
       "      <td>Vienna</td>\n",
       "      <td>{with a pet, travelers with friends, double_ro...</td>\n",
       "      <td>0</td>\n",
       "      <td>0</td>\n",
       "      <td>0</td>\n",
       "      <td>0</td>\n",
       "      <td>...</td>\n",
       "      <td>0</td>\n",
       "      <td>0</td>\n",
       "      <td>0</td>\n",
       "      <td>0</td>\n",
       "      <td>0</td>\n",
       "      <td>0</td>\n",
       "      <td>0</td>\n",
       "      <td>0</td>\n",
       "      <td>0</td>\n",
       "      <td>0</td>\n",
       "    </tr>\n",
       "    <tr>\n",
       "      <th>3</th>\n",
       "      <td>41</td>\n",
       "      <td>[' Leisure trip ', ' Couple ', ' Executive Kin...</td>\n",
       "      <td>51.498147</td>\n",
       "      <td>-0.143649</td>\n",
       "      <td>West End of London</td>\n",
       "      <td>{_suite_, king_room, solo traveler, family wit...</td>\n",
       "      <td>0</td>\n",
       "      <td>0</td>\n",
       "      <td>0</td>\n",
       "      <td>0</td>\n",
       "      <td>...</td>\n",
       "      <td>0</td>\n",
       "      <td>0</td>\n",
       "      <td>0</td>\n",
       "      <td>0</td>\n",
       "      <td>0</td>\n",
       "      <td>0</td>\n",
       "      <td>0</td>\n",
       "      <td>0</td>\n",
       "      <td>0</td>\n",
       "      <td>0</td>\n",
       "    </tr>\n",
       "    <tr>\n",
       "      <th>4</th>\n",
       "      <td>45 Park Lane Dorchester Collection</td>\n",
       "      <td>[' Leisure trip ', ' Solo traveler ', ' Execut...</td>\n",
       "      <td>51.506371</td>\n",
       "      <td>-0.151536</td>\n",
       "      <td>West End of London</td>\n",
       "      <td>{park view studio, solo traveler, business tri...</td>\n",
       "      <td>0</td>\n",
       "      <td>0</td>\n",
       "      <td>0</td>\n",
       "      <td>0</td>\n",
       "      <td>...</td>\n",
       "      <td>0</td>\n",
       "      <td>0</td>\n",
       "      <td>0</td>\n",
       "      <td>0</td>\n",
       "      <td>0</td>\n",
       "      <td>0</td>\n",
       "      <td>0</td>\n",
       "      <td>0</td>\n",
       "      <td>0</td>\n",
       "      <td>0</td>\n",
       "    </tr>\n",
       "  </tbody>\n",
       "</table>\n",
       "<p>5 rows × 520 columns</p>\n",
       "</div>"
      ],
      "text/plain": [
       "                           hotel_name  \\\n",
       "0                  11 Cadogan Gardens   \n",
       "1                            1K Hotel   \n",
       "2  25hours Hotel beim MuseumsQuartier   \n",
       "3                                  41   \n",
       "4  45 Park Lane Dorchester Collection   \n",
       "\n",
       "                                                tags      lat_x      lng_x  \\\n",
       "0  [' Leisure trip ', ' Couple ', ' Superior Quee...  51.493616  -0.159235   \n",
       "1  [' Leisure trip ', ' Couple ', ' Superior M Do...  48.863932   2.365874   \n",
       "2  [' Leisure trip ', ' Solo traveler ', ' Standa...  48.206474  16.354630   \n",
       "3  [' Leisure trip ', ' Couple ', ' Executive Kin...  51.498147  -0.143649   \n",
       "4  [' Leisure trip ', ' Solo traveler ', ' Execut...  51.506371  -0.151536   \n",
       "\n",
       "                 city                                           new_tags  \\\n",
       "0             Chelsea  {_suite_, king_room, solo traveler, family wit...   \n",
       "1               Paris  {travelers with friends, double_room, _suite_,...   \n",
       "2              Vienna  {with a pet, travelers with friends, double_ro...   \n",
       "3  West End of London  {_suite_, king_room, solo traveler, family wit...   \n",
       "4  West End of London  {park view studio, solo traveler, business tri...   \n",
       "\n",
       "   _suite_  king_room  solo traveler  family with older children  ...  \\\n",
       "0        0          0              0                           0  ...   \n",
       "1        0          0              0                           0  ...   \n",
       "2        0          0              0                           0  ...   \n",
       "3        0          0              0                           0  ...   \n",
       "4        0          0              0                           0  ...   \n",
       "\n",
       "   king superior plus room  king loft  king premier room  \\\n",
       "0                        0          0                  0   \n",
       "1                        0          0                  0   \n",
       "2                        0          0                  0   \n",
       "3                        0          0                  0   \n",
       "4                        0          0                  0   \n",
       "\n",
       "   king grand premier with canal view  twin grand premier with canal view  \\\n",
       "0                                   0                                   0   \n",
       "1                                   0                                   0   \n",
       "2                                   0                                   0   \n",
       "3                                   0                                   0   \n",
       "4                                   0                                   0   \n",
       "\n",
       "   luxury quadruple room  large room  art room with iconic view  \\\n",
       "0                      0           0                          0   \n",
       "1                      0           0                          0   \n",
       "2                      0           0                          0   \n",
       "3                      0           0                          0   \n",
       "4                      0           0                          0   \n",
       "\n",
       "   art room xl with iconic view  penta plus room  \n",
       "0                             0                0  \n",
       "1                             0                0  \n",
       "2                             0                0  \n",
       "3                             0                0  \n",
       "4                             0                0  \n",
       "\n",
       "[5 rows x 520 columns]"
      ]
     },
     "execution_count": 20,
     "metadata": {},
     "output_type": "execute_result"
    }
   ],
   "source": [
    "hoteltags_geo.head()"
   ]
  },
  {
   "cell_type": "code",
   "execution_count": 21,
   "metadata": {},
   "outputs": [],
   "source": [
    "#iterating through the columns comparing if attribtues in is presence in new_tags, assign 1 \n",
    "only_new_tags=pd.DataFrame(hoteltags_geo.new_tags.loc[:])\n",
    "\n",
    "for index, row in only_new_tags.iterrows():\n",
    "    cs_list = set(row['new_tags'])\n",
    "    \n",
    "    for j in cs_list:\n",
    "        #set corresponding column to 1\n",
    "        if j in tag_sum_set:\n",
    "            hoteltags_geo.loc[index,j]=1"
   ]
  },
  {
   "cell_type": "markdown",
   "metadata": {},
   "source": [
    "#### Visualisation of type of rooms in the dataset"
   ]
  },
  {
   "cell_type": "code",
   "execution_count": 22,
   "metadata": {},
   "outputs": [],
   "source": [
    "index_room = ['single_room','twin_room','double_room','superior_room'\n",
    "        ,'king_room','executive_room','_suite_','triple_room',\n",
    "        '_penthouse_','standard_room','family_room','deluxe_room','guest_room','_apartment_',\n",
    "        '_terrace_']\n",
    "room_count=[]\n",
    "\n",
    "for i in index_room:\n",
    "    room_count.append(get_special(i).shape[0])\n"
   ]
  },
  {
   "cell_type": "code",
   "execution_count": 23,
   "metadata": {},
   "outputs": [],
   "source": [
    "import plotly.io as pio\n"
   ]
  },
  {
   "cell_type": "code",
   "execution_count": 24,
   "metadata": {
    "scrolled": true
   },
   "outputs": [
    {
     "data": {
      "application/vnd.plotly.v1+json": {
       "config": {
        "linkText": "Export to plot.ly",
        "plotlyServerURL": "https://plot.ly",
        "showLink": true
       },
       "data": [
        {
         "marker": {
          "color": "rgba(255, 153, 51, 0.6)",
          "line": {
           "color": "rgba(255, 153, 51, 1.0)",
           "width": 1
          }
         },
         "name": "No.of Hotel",
         "orientation": "h",
         "text": "",
         "type": "bar",
         "x": [
          486,
          896,
          1046,
          137,
          204,
          78,
          827,
          288,
          17,
          46,
          89,
          124,
          29,
          59,
          0
         ],
         "y": [
          "single_room",
          "twin_room",
          "double_room",
          "superior_room",
          "king_room",
          "executive_room",
          "_suite_",
          "triple_room",
          "_penthouse_",
          "standard_room",
          "family_room",
          "deluxe_room",
          "guest_room",
          "_apartment_",
          "_terrace_"
         ]
        }
       ],
       "layout": {
        "legend": {
         "bgcolor": "#F5F6F9",
         "font": {
          "color": "#4D5663"
         }
        },
        "paper_bgcolor": "#F5F6F9",
        "plot_bgcolor": "#F5F6F9",
        "template": {
         "data": {
          "bar": [
           {
            "error_x": {
             "color": "#2a3f5f"
            },
            "error_y": {
             "color": "#2a3f5f"
            },
            "marker": {
             "line": {
              "color": "#E5ECF6",
              "width": 0.5
             }
            },
            "type": "bar"
           }
          ],
          "barpolar": [
           {
            "marker": {
             "line": {
              "color": "#E5ECF6",
              "width": 0.5
             }
            },
            "type": "barpolar"
           }
          ],
          "carpet": [
           {
            "aaxis": {
             "endlinecolor": "#2a3f5f",
             "gridcolor": "white",
             "linecolor": "white",
             "minorgridcolor": "white",
             "startlinecolor": "#2a3f5f"
            },
            "baxis": {
             "endlinecolor": "#2a3f5f",
             "gridcolor": "white",
             "linecolor": "white",
             "minorgridcolor": "white",
             "startlinecolor": "#2a3f5f"
            },
            "type": "carpet"
           }
          ],
          "choropleth": [
           {
            "colorbar": {
             "outlinewidth": 0,
             "ticks": ""
            },
            "type": "choropleth"
           }
          ],
          "contour": [
           {
            "colorbar": {
             "outlinewidth": 0,
             "ticks": ""
            },
            "colorscale": [
             [
              0,
              "#0d0887"
             ],
             [
              0.1111111111111111,
              "#46039f"
             ],
             [
              0.2222222222222222,
              "#7201a8"
             ],
             [
              0.3333333333333333,
              "#9c179e"
             ],
             [
              0.4444444444444444,
              "#bd3786"
             ],
             [
              0.5555555555555556,
              "#d8576b"
             ],
             [
              0.6666666666666666,
              "#ed7953"
             ],
             [
              0.7777777777777778,
              "#fb9f3a"
             ],
             [
              0.8888888888888888,
              "#fdca26"
             ],
             [
              1,
              "#f0f921"
             ]
            ],
            "type": "contour"
           }
          ],
          "contourcarpet": [
           {
            "colorbar": {
             "outlinewidth": 0,
             "ticks": ""
            },
            "type": "contourcarpet"
           }
          ],
          "heatmap": [
           {
            "colorbar": {
             "outlinewidth": 0,
             "ticks": ""
            },
            "colorscale": [
             [
              0,
              "#0d0887"
             ],
             [
              0.1111111111111111,
              "#46039f"
             ],
             [
              0.2222222222222222,
              "#7201a8"
             ],
             [
              0.3333333333333333,
              "#9c179e"
             ],
             [
              0.4444444444444444,
              "#bd3786"
             ],
             [
              0.5555555555555556,
              "#d8576b"
             ],
             [
              0.6666666666666666,
              "#ed7953"
             ],
             [
              0.7777777777777778,
              "#fb9f3a"
             ],
             [
              0.8888888888888888,
              "#fdca26"
             ],
             [
              1,
              "#f0f921"
             ]
            ],
            "type": "heatmap"
           }
          ],
          "heatmapgl": [
           {
            "colorbar": {
             "outlinewidth": 0,
             "ticks": ""
            },
            "colorscale": [
             [
              0,
              "#0d0887"
             ],
             [
              0.1111111111111111,
              "#46039f"
             ],
             [
              0.2222222222222222,
              "#7201a8"
             ],
             [
              0.3333333333333333,
              "#9c179e"
             ],
             [
              0.4444444444444444,
              "#bd3786"
             ],
             [
              0.5555555555555556,
              "#d8576b"
             ],
             [
              0.6666666666666666,
              "#ed7953"
             ],
             [
              0.7777777777777778,
              "#fb9f3a"
             ],
             [
              0.8888888888888888,
              "#fdca26"
             ],
             [
              1,
              "#f0f921"
             ]
            ],
            "type": "heatmapgl"
           }
          ],
          "histogram": [
           {
            "marker": {
             "colorbar": {
              "outlinewidth": 0,
              "ticks": ""
             }
            },
            "type": "histogram"
           }
          ],
          "histogram2d": [
           {
            "colorbar": {
             "outlinewidth": 0,
             "ticks": ""
            },
            "colorscale": [
             [
              0,
              "#0d0887"
             ],
             [
              0.1111111111111111,
              "#46039f"
             ],
             [
              0.2222222222222222,
              "#7201a8"
             ],
             [
              0.3333333333333333,
              "#9c179e"
             ],
             [
              0.4444444444444444,
              "#bd3786"
             ],
             [
              0.5555555555555556,
              "#d8576b"
             ],
             [
              0.6666666666666666,
              "#ed7953"
             ],
             [
              0.7777777777777778,
              "#fb9f3a"
             ],
             [
              0.8888888888888888,
              "#fdca26"
             ],
             [
              1,
              "#f0f921"
             ]
            ],
            "type": "histogram2d"
           }
          ],
          "histogram2dcontour": [
           {
            "colorbar": {
             "outlinewidth": 0,
             "ticks": ""
            },
            "colorscale": [
             [
              0,
              "#0d0887"
             ],
             [
              0.1111111111111111,
              "#46039f"
             ],
             [
              0.2222222222222222,
              "#7201a8"
             ],
             [
              0.3333333333333333,
              "#9c179e"
             ],
             [
              0.4444444444444444,
              "#bd3786"
             ],
             [
              0.5555555555555556,
              "#d8576b"
             ],
             [
              0.6666666666666666,
              "#ed7953"
             ],
             [
              0.7777777777777778,
              "#fb9f3a"
             ],
             [
              0.8888888888888888,
              "#fdca26"
             ],
             [
              1,
              "#f0f921"
             ]
            ],
            "type": "histogram2dcontour"
           }
          ],
          "mesh3d": [
           {
            "colorbar": {
             "outlinewidth": 0,
             "ticks": ""
            },
            "type": "mesh3d"
           }
          ],
          "parcoords": [
           {
            "line": {
             "colorbar": {
              "outlinewidth": 0,
              "ticks": ""
             }
            },
            "type": "parcoords"
           }
          ],
          "pie": [
           {
            "automargin": true,
            "type": "pie"
           }
          ],
          "scatter": [
           {
            "marker": {
             "colorbar": {
              "outlinewidth": 0,
              "ticks": ""
             }
            },
            "type": "scatter"
           }
          ],
          "scatter3d": [
           {
            "line": {
             "colorbar": {
              "outlinewidth": 0,
              "ticks": ""
             }
            },
            "marker": {
             "colorbar": {
              "outlinewidth": 0,
              "ticks": ""
             }
            },
            "type": "scatter3d"
           }
          ],
          "scattercarpet": [
           {
            "marker": {
             "colorbar": {
              "outlinewidth": 0,
              "ticks": ""
             }
            },
            "type": "scattercarpet"
           }
          ],
          "scattergeo": [
           {
            "marker": {
             "colorbar": {
              "outlinewidth": 0,
              "ticks": ""
             }
            },
            "type": "scattergeo"
           }
          ],
          "scattergl": [
           {
            "marker": {
             "colorbar": {
              "outlinewidth": 0,
              "ticks": ""
             }
            },
            "type": "scattergl"
           }
          ],
          "scattermapbox": [
           {
            "marker": {
             "colorbar": {
              "outlinewidth": 0,
              "ticks": ""
             }
            },
            "type": "scattermapbox"
           }
          ],
          "scatterpolar": [
           {
            "marker": {
             "colorbar": {
              "outlinewidth": 0,
              "ticks": ""
             }
            },
            "type": "scatterpolar"
           }
          ],
          "scatterpolargl": [
           {
            "marker": {
             "colorbar": {
              "outlinewidth": 0,
              "ticks": ""
             }
            },
            "type": "scatterpolargl"
           }
          ],
          "scatterternary": [
           {
            "marker": {
             "colorbar": {
              "outlinewidth": 0,
              "ticks": ""
             }
            },
            "type": "scatterternary"
           }
          ],
          "surface": [
           {
            "colorbar": {
             "outlinewidth": 0,
             "ticks": ""
            },
            "colorscale": [
             [
              0,
              "#0d0887"
             ],
             [
              0.1111111111111111,
              "#46039f"
             ],
             [
              0.2222222222222222,
              "#7201a8"
             ],
             [
              0.3333333333333333,
              "#9c179e"
             ],
             [
              0.4444444444444444,
              "#bd3786"
             ],
             [
              0.5555555555555556,
              "#d8576b"
             ],
             [
              0.6666666666666666,
              "#ed7953"
             ],
             [
              0.7777777777777778,
              "#fb9f3a"
             ],
             [
              0.8888888888888888,
              "#fdca26"
             ],
             [
              1,
              "#f0f921"
             ]
            ],
            "type": "surface"
           }
          ],
          "table": [
           {
            "cells": {
             "fill": {
              "color": "#EBF0F8"
             },
             "line": {
              "color": "white"
             }
            },
            "header": {
             "fill": {
              "color": "#C8D4E3"
             },
             "line": {
              "color": "white"
             }
            },
            "type": "table"
           }
          ]
         },
         "layout": {
          "annotationdefaults": {
           "arrowcolor": "#2a3f5f",
           "arrowhead": 0,
           "arrowwidth": 1
          },
          "coloraxis": {
           "colorbar": {
            "outlinewidth": 0,
            "ticks": ""
           }
          },
          "colorscale": {
           "diverging": [
            [
             0,
             "#8e0152"
            ],
            [
             0.1,
             "#c51b7d"
            ],
            [
             0.2,
             "#de77ae"
            ],
            [
             0.3,
             "#f1b6da"
            ],
            [
             0.4,
             "#fde0ef"
            ],
            [
             0.5,
             "#f7f7f7"
            ],
            [
             0.6,
             "#e6f5d0"
            ],
            [
             0.7,
             "#b8e186"
            ],
            [
             0.8,
             "#7fbc41"
            ],
            [
             0.9,
             "#4d9221"
            ],
            [
             1,
             "#276419"
            ]
           ],
           "sequential": [
            [
             0,
             "#0d0887"
            ],
            [
             0.1111111111111111,
             "#46039f"
            ],
            [
             0.2222222222222222,
             "#7201a8"
            ],
            [
             0.3333333333333333,
             "#9c179e"
            ],
            [
             0.4444444444444444,
             "#bd3786"
            ],
            [
             0.5555555555555556,
             "#d8576b"
            ],
            [
             0.6666666666666666,
             "#ed7953"
            ],
            [
             0.7777777777777778,
             "#fb9f3a"
            ],
            [
             0.8888888888888888,
             "#fdca26"
            ],
            [
             1,
             "#f0f921"
            ]
           ],
           "sequentialminus": [
            [
             0,
             "#0d0887"
            ],
            [
             0.1111111111111111,
             "#46039f"
            ],
            [
             0.2222222222222222,
             "#7201a8"
            ],
            [
             0.3333333333333333,
             "#9c179e"
            ],
            [
             0.4444444444444444,
             "#bd3786"
            ],
            [
             0.5555555555555556,
             "#d8576b"
            ],
            [
             0.6666666666666666,
             "#ed7953"
            ],
            [
             0.7777777777777778,
             "#fb9f3a"
            ],
            [
             0.8888888888888888,
             "#fdca26"
            ],
            [
             1,
             "#f0f921"
            ]
           ]
          },
          "colorway": [
           "#636efa",
           "#EF553B",
           "#00cc96",
           "#ab63fa",
           "#FFA15A",
           "#19d3f3",
           "#FF6692",
           "#B6E880",
           "#FF97FF",
           "#FECB52"
          ],
          "font": {
           "color": "#2a3f5f"
          },
          "geo": {
           "bgcolor": "white",
           "lakecolor": "white",
           "landcolor": "#E5ECF6",
           "showlakes": true,
           "showland": true,
           "subunitcolor": "white"
          },
          "hoverlabel": {
           "align": "left"
          },
          "hovermode": "closest",
          "mapbox": {
           "style": "light"
          },
          "paper_bgcolor": "white",
          "plot_bgcolor": "#E5ECF6",
          "polar": {
           "angularaxis": {
            "gridcolor": "white",
            "linecolor": "white",
            "ticks": ""
           },
           "bgcolor": "#E5ECF6",
           "radialaxis": {
            "gridcolor": "white",
            "linecolor": "white",
            "ticks": ""
           }
          },
          "scene": {
           "xaxis": {
            "backgroundcolor": "#E5ECF6",
            "gridcolor": "white",
            "gridwidth": 2,
            "linecolor": "white",
            "showbackground": true,
            "ticks": "",
            "zerolinecolor": "white"
           },
           "yaxis": {
            "backgroundcolor": "#E5ECF6",
            "gridcolor": "white",
            "gridwidth": 2,
            "linecolor": "white",
            "showbackground": true,
            "ticks": "",
            "zerolinecolor": "white"
           },
           "zaxis": {
            "backgroundcolor": "#E5ECF6",
            "gridcolor": "white",
            "gridwidth": 2,
            "linecolor": "white",
            "showbackground": true,
            "ticks": "",
            "zerolinecolor": "white"
           }
          },
          "shapedefaults": {
           "line": {
            "color": "#2a3f5f"
           }
          },
          "ternary": {
           "aaxis": {
            "gridcolor": "white",
            "linecolor": "white",
            "ticks": ""
           },
           "baxis": {
            "gridcolor": "white",
            "linecolor": "white",
            "ticks": ""
           },
           "bgcolor": "#E5ECF6",
           "caxis": {
            "gridcolor": "white",
            "linecolor": "white",
            "ticks": ""
           }
          },
          "title": {
           "x": 0.05
          },
          "xaxis": {
           "automargin": true,
           "gridcolor": "white",
           "linecolor": "white",
           "ticks": "",
           "title": {
            "standoff": 15
           },
           "zerolinecolor": "white",
           "zerolinewidth": 2
          },
          "yaxis": {
           "automargin": true,
           "gridcolor": "white",
           "linecolor": "white",
           "ticks": "",
           "title": {
            "standoff": 15
           },
           "zerolinecolor": "white",
           "zerolinewidth": 2
          }
         }
        },
        "title": {
         "font": {
          "color": "#4D5663"
         },
         "text": "Number of hotels by Room Types"
        },
        "xaxis": {
         "gridcolor": "#E1E5ED",
         "linecolor": "black",
         "showgrid": true,
         "tickfont": {
          "color": "#4D5663"
         },
         "title": {
          "font": {
           "color": "#4D5663"
          },
          "text": ""
         },
         "zerolinecolor": "#E1E5ED"
        },
        "yaxis": {
         "gridcolor": "#E1E5ED",
         "linecolor": "black",
         "showgrid": true,
         "tickfont": {
          "color": "#4D5663"
         },
         "title": {
          "font": {
           "color": "#4D5663"
          },
          "text": "Room Types"
         },
         "zerolinecolor": "#E1E5ED"
        }
       }
      },
      "text/html": [
       "<div>\n",
       "        \n",
       "        \n",
       "            <div id=\"ffe2590e-0bd2-46d2-aaba-07a6d5fd3663\" class=\"plotly-graph-div\" style=\"height:525px; width:100%;\"></div>\n",
       "            <script type=\"text/javascript\">\n",
       "                require([\"plotly\"], function(Plotly) {\n",
       "                    window.PLOTLYENV=window.PLOTLYENV || {};\n",
       "                    window.PLOTLYENV.BASE_URL='https://plot.ly';\n",
       "                    \n",
       "                if (document.getElementById(\"ffe2590e-0bd2-46d2-aaba-07a6d5fd3663\")) {\n",
       "                    Plotly.newPlot(\n",
       "                        'ffe2590e-0bd2-46d2-aaba-07a6d5fd3663',\n",
       "                        [{\"marker\": {\"color\": \"rgba(255, 153, 51, 0.6)\", \"line\": {\"color\": \"rgba(255, 153, 51, 1.0)\", \"width\": 1}}, \"name\": \"No.of Hotel\", \"orientation\": \"h\", \"text\": \"\", \"type\": \"bar\", \"x\": [486, 896, 1046, 137, 204, 78, 827, 288, 17, 46, 89, 124, 29, 59, 0], \"y\": [\"single_room\", \"twin_room\", \"double_room\", \"superior_room\", \"king_room\", \"executive_room\", \"_suite_\", \"triple_room\", \"_penthouse_\", \"standard_room\", \"family_room\", \"deluxe_room\", \"guest_room\", \"_apartment_\", \"_terrace_\"]}],\n",
       "                        {\"legend\": {\"bgcolor\": \"#F5F6F9\", \"font\": {\"color\": \"#4D5663\"}}, \"paper_bgcolor\": \"#F5F6F9\", \"plot_bgcolor\": \"#F5F6F9\", \"template\": {\"data\": {\"bar\": [{\"error_x\": {\"color\": \"#2a3f5f\"}, \"error_y\": {\"color\": \"#2a3f5f\"}, \"marker\": {\"line\": {\"color\": \"#E5ECF6\", \"width\": 0.5}}, \"type\": \"bar\"}], \"barpolar\": [{\"marker\": {\"line\": {\"color\": \"#E5ECF6\", \"width\": 0.5}}, \"type\": \"barpolar\"}], \"carpet\": [{\"aaxis\": {\"endlinecolor\": \"#2a3f5f\", \"gridcolor\": \"white\", \"linecolor\": \"white\", \"minorgridcolor\": \"white\", \"startlinecolor\": \"#2a3f5f\"}, \"baxis\": {\"endlinecolor\": \"#2a3f5f\", \"gridcolor\": \"white\", \"linecolor\": \"white\", \"minorgridcolor\": \"white\", \"startlinecolor\": \"#2a3f5f\"}, \"type\": \"carpet\"}], \"choropleth\": [{\"colorbar\": {\"outlinewidth\": 0, \"ticks\": \"\"}, \"type\": \"choropleth\"}], \"contour\": [{\"colorbar\": {\"outlinewidth\": 0, \"ticks\": \"\"}, \"colorscale\": [[0.0, \"#0d0887\"], [0.1111111111111111, \"#46039f\"], [0.2222222222222222, \"#7201a8\"], [0.3333333333333333, \"#9c179e\"], [0.4444444444444444, \"#bd3786\"], [0.5555555555555556, \"#d8576b\"], [0.6666666666666666, \"#ed7953\"], [0.7777777777777778, \"#fb9f3a\"], [0.8888888888888888, \"#fdca26\"], [1.0, \"#f0f921\"]], \"type\": \"contour\"}], \"contourcarpet\": [{\"colorbar\": {\"outlinewidth\": 0, \"ticks\": \"\"}, \"type\": \"contourcarpet\"}], \"heatmap\": [{\"colorbar\": {\"outlinewidth\": 0, \"ticks\": \"\"}, \"colorscale\": [[0.0, \"#0d0887\"], [0.1111111111111111, \"#46039f\"], [0.2222222222222222, \"#7201a8\"], [0.3333333333333333, \"#9c179e\"], [0.4444444444444444, \"#bd3786\"], [0.5555555555555556, \"#d8576b\"], [0.6666666666666666, \"#ed7953\"], [0.7777777777777778, \"#fb9f3a\"], [0.8888888888888888, \"#fdca26\"], [1.0, \"#f0f921\"]], \"type\": \"heatmap\"}], \"heatmapgl\": [{\"colorbar\": {\"outlinewidth\": 0, \"ticks\": \"\"}, \"colorscale\": [[0.0, \"#0d0887\"], [0.1111111111111111, \"#46039f\"], [0.2222222222222222, \"#7201a8\"], [0.3333333333333333, \"#9c179e\"], [0.4444444444444444, \"#bd3786\"], [0.5555555555555556, \"#d8576b\"], [0.6666666666666666, \"#ed7953\"], [0.7777777777777778, \"#fb9f3a\"], [0.8888888888888888, \"#fdca26\"], [1.0, \"#f0f921\"]], \"type\": \"heatmapgl\"}], \"histogram\": [{\"marker\": {\"colorbar\": {\"outlinewidth\": 0, \"ticks\": \"\"}}, \"type\": \"histogram\"}], \"histogram2d\": [{\"colorbar\": {\"outlinewidth\": 0, \"ticks\": \"\"}, \"colorscale\": [[0.0, \"#0d0887\"], [0.1111111111111111, \"#46039f\"], [0.2222222222222222, \"#7201a8\"], [0.3333333333333333, \"#9c179e\"], [0.4444444444444444, \"#bd3786\"], [0.5555555555555556, \"#d8576b\"], [0.6666666666666666, \"#ed7953\"], [0.7777777777777778, \"#fb9f3a\"], [0.8888888888888888, \"#fdca26\"], [1.0, \"#f0f921\"]], \"type\": \"histogram2d\"}], \"histogram2dcontour\": [{\"colorbar\": {\"outlinewidth\": 0, \"ticks\": \"\"}, \"colorscale\": [[0.0, \"#0d0887\"], [0.1111111111111111, \"#46039f\"], [0.2222222222222222, \"#7201a8\"], [0.3333333333333333, \"#9c179e\"], [0.4444444444444444, \"#bd3786\"], [0.5555555555555556, \"#d8576b\"], [0.6666666666666666, \"#ed7953\"], [0.7777777777777778, \"#fb9f3a\"], [0.8888888888888888, \"#fdca26\"], [1.0, \"#f0f921\"]], \"type\": \"histogram2dcontour\"}], \"mesh3d\": [{\"colorbar\": {\"outlinewidth\": 0, \"ticks\": \"\"}, \"type\": \"mesh3d\"}], \"parcoords\": [{\"line\": {\"colorbar\": {\"outlinewidth\": 0, \"ticks\": \"\"}}, \"type\": \"parcoords\"}], \"pie\": [{\"automargin\": true, \"type\": \"pie\"}], \"scatter\": [{\"marker\": {\"colorbar\": {\"outlinewidth\": 0, \"ticks\": \"\"}}, \"type\": \"scatter\"}], \"scatter3d\": [{\"line\": {\"colorbar\": {\"outlinewidth\": 0, \"ticks\": \"\"}}, \"marker\": {\"colorbar\": {\"outlinewidth\": 0, \"ticks\": \"\"}}, \"type\": \"scatter3d\"}], \"scattercarpet\": [{\"marker\": {\"colorbar\": {\"outlinewidth\": 0, \"ticks\": \"\"}}, \"type\": \"scattercarpet\"}], \"scattergeo\": [{\"marker\": {\"colorbar\": {\"outlinewidth\": 0, \"ticks\": \"\"}}, \"type\": \"scattergeo\"}], \"scattergl\": [{\"marker\": {\"colorbar\": {\"outlinewidth\": 0, \"ticks\": \"\"}}, \"type\": \"scattergl\"}], \"scattermapbox\": [{\"marker\": {\"colorbar\": {\"outlinewidth\": 0, \"ticks\": \"\"}}, \"type\": \"scattermapbox\"}], \"scatterpolar\": [{\"marker\": {\"colorbar\": {\"outlinewidth\": 0, \"ticks\": \"\"}}, \"type\": \"scatterpolar\"}], \"scatterpolargl\": [{\"marker\": {\"colorbar\": {\"outlinewidth\": 0, \"ticks\": \"\"}}, \"type\": \"scatterpolargl\"}], \"scatterternary\": [{\"marker\": {\"colorbar\": {\"outlinewidth\": 0, \"ticks\": \"\"}}, \"type\": \"scatterternary\"}], \"surface\": [{\"colorbar\": {\"outlinewidth\": 0, \"ticks\": \"\"}, \"colorscale\": [[0.0, \"#0d0887\"], [0.1111111111111111, \"#46039f\"], [0.2222222222222222, \"#7201a8\"], [0.3333333333333333, \"#9c179e\"], [0.4444444444444444, \"#bd3786\"], [0.5555555555555556, \"#d8576b\"], [0.6666666666666666, \"#ed7953\"], [0.7777777777777778, \"#fb9f3a\"], [0.8888888888888888, \"#fdca26\"], [1.0, \"#f0f921\"]], \"type\": \"surface\"}], \"table\": [{\"cells\": {\"fill\": {\"color\": \"#EBF0F8\"}, \"line\": {\"color\": \"white\"}}, \"header\": {\"fill\": {\"color\": \"#C8D4E3\"}, \"line\": {\"color\": \"white\"}}, \"type\": \"table\"}]}, \"layout\": {\"annotationdefaults\": {\"arrowcolor\": \"#2a3f5f\", \"arrowhead\": 0, \"arrowwidth\": 1}, \"coloraxis\": {\"colorbar\": {\"outlinewidth\": 0, \"ticks\": \"\"}}, \"colorscale\": {\"diverging\": [[0, \"#8e0152\"], [0.1, \"#c51b7d\"], [0.2, \"#de77ae\"], [0.3, \"#f1b6da\"], [0.4, \"#fde0ef\"], [0.5, \"#f7f7f7\"], [0.6, \"#e6f5d0\"], [0.7, \"#b8e186\"], [0.8, \"#7fbc41\"], [0.9, \"#4d9221\"], [1, \"#276419\"]], \"sequential\": [[0.0, \"#0d0887\"], [0.1111111111111111, \"#46039f\"], [0.2222222222222222, \"#7201a8\"], [0.3333333333333333, \"#9c179e\"], [0.4444444444444444, \"#bd3786\"], [0.5555555555555556, \"#d8576b\"], [0.6666666666666666, \"#ed7953\"], [0.7777777777777778, \"#fb9f3a\"], [0.8888888888888888, \"#fdca26\"], [1.0, \"#f0f921\"]], \"sequentialminus\": [[0.0, \"#0d0887\"], [0.1111111111111111, \"#46039f\"], [0.2222222222222222, \"#7201a8\"], [0.3333333333333333, \"#9c179e\"], [0.4444444444444444, \"#bd3786\"], [0.5555555555555556, \"#d8576b\"], [0.6666666666666666, \"#ed7953\"], [0.7777777777777778, \"#fb9f3a\"], [0.8888888888888888, \"#fdca26\"], [1.0, \"#f0f921\"]]}, \"colorway\": [\"#636efa\", \"#EF553B\", \"#00cc96\", \"#ab63fa\", \"#FFA15A\", \"#19d3f3\", \"#FF6692\", \"#B6E880\", \"#FF97FF\", \"#FECB52\"], \"font\": {\"color\": \"#2a3f5f\"}, \"geo\": {\"bgcolor\": \"white\", \"lakecolor\": \"white\", \"landcolor\": \"#E5ECF6\", \"showlakes\": true, \"showland\": true, \"subunitcolor\": \"white\"}, \"hoverlabel\": {\"align\": \"left\"}, \"hovermode\": \"closest\", \"mapbox\": {\"style\": \"light\"}, \"paper_bgcolor\": \"white\", \"plot_bgcolor\": \"#E5ECF6\", \"polar\": {\"angularaxis\": {\"gridcolor\": \"white\", \"linecolor\": \"white\", \"ticks\": \"\"}, \"bgcolor\": \"#E5ECF6\", \"radialaxis\": {\"gridcolor\": \"white\", \"linecolor\": \"white\", \"ticks\": \"\"}}, \"scene\": {\"xaxis\": {\"backgroundcolor\": \"#E5ECF6\", \"gridcolor\": \"white\", \"gridwidth\": 2, \"linecolor\": \"white\", \"showbackground\": true, \"ticks\": \"\", \"zerolinecolor\": \"white\"}, \"yaxis\": {\"backgroundcolor\": \"#E5ECF6\", \"gridcolor\": \"white\", \"gridwidth\": 2, \"linecolor\": \"white\", \"showbackground\": true, \"ticks\": \"\", \"zerolinecolor\": \"white\"}, \"zaxis\": {\"backgroundcolor\": \"#E5ECF6\", \"gridcolor\": \"white\", \"gridwidth\": 2, \"linecolor\": \"white\", \"showbackground\": true, \"ticks\": \"\", \"zerolinecolor\": \"white\"}}, \"shapedefaults\": {\"line\": {\"color\": \"#2a3f5f\"}}, \"ternary\": {\"aaxis\": {\"gridcolor\": \"white\", \"linecolor\": \"white\", \"ticks\": \"\"}, \"baxis\": {\"gridcolor\": \"white\", \"linecolor\": \"white\", \"ticks\": \"\"}, \"bgcolor\": \"#E5ECF6\", \"caxis\": {\"gridcolor\": \"white\", \"linecolor\": \"white\", \"ticks\": \"\"}}, \"title\": {\"x\": 0.05}, \"xaxis\": {\"automargin\": true, \"gridcolor\": \"white\", \"linecolor\": \"white\", \"ticks\": \"\", \"title\": {\"standoff\": 15}, \"zerolinecolor\": \"white\", \"zerolinewidth\": 2}, \"yaxis\": {\"automargin\": true, \"gridcolor\": \"white\", \"linecolor\": \"white\", \"ticks\": \"\", \"title\": {\"standoff\": 15}, \"zerolinecolor\": \"white\", \"zerolinewidth\": 2}}}, \"title\": {\"font\": {\"color\": \"#4D5663\"}, \"text\": \"Number of hotels by Room Types\"}, \"xaxis\": {\"gridcolor\": \"#E1E5ED\", \"linecolor\": \"black\", \"showgrid\": true, \"tickfont\": {\"color\": \"#4D5663\"}, \"title\": {\"font\": {\"color\": \"#4D5663\"}, \"text\": \"\"}, \"zerolinecolor\": \"#E1E5ED\"}, \"yaxis\": {\"gridcolor\": \"#E1E5ED\", \"linecolor\": \"black\", \"showgrid\": true, \"tickfont\": {\"color\": \"#4D5663\"}, \"title\": {\"font\": {\"color\": \"#4D5663\"}, \"text\": \"Room Types\"}, \"zerolinecolor\": \"#E1E5ED\"}},\n",
       "                        {\"showLink\": true, \"linkText\": \"Export to plot.ly\", \"plotlyServerURL\": \"https://plot.ly\", \"responsive\": true}\n",
       "                    ).then(function(){\n",
       "                            \n",
       "var gd = document.getElementById('ffe2590e-0bd2-46d2-aaba-07a6d5fd3663');\n",
       "var x = new MutationObserver(function (mutations, observer) {{\n",
       "        var display = window.getComputedStyle(gd).display;\n",
       "        if (!display || display === 'none') {{\n",
       "            console.log([gd, 'removed!']);\n",
       "            Plotly.purge(gd);\n",
       "            observer.disconnect();\n",
       "        }}\n",
       "}});\n",
       "\n",
       "// Listen for the removal of the full notebook cells\n",
       "var notebookContainer = gd.closest('#notebook-container');\n",
       "if (notebookContainer) {{\n",
       "    x.observe(notebookContainer, {childList: true});\n",
       "}}\n",
       "\n",
       "// Listen for the clearing of the current output cell\n",
       "var outputEl = gd.closest('.output');\n",
       "if (outputEl) {{\n",
       "    x.observe(outputEl, {childList: true});\n",
       "}}\n",
       "\n",
       "                        })\n",
       "                };\n",
       "                });\n",
       "            </script>\n",
       "        </div>"
      ]
     },
     "metadata": {},
     "output_type": "display_data"
    }
   ],
   "source": [
    "df1 = pd.DataFrame({'No.of Hotel': room_count}, index=index_room)\n",
    "ax = df1.iplot(kind='barh', yTitle='Room Types', linecolor='black', title='Number of hotels by Room Types')\n",
    "ax\n"
   ]
  },
  {
   "cell_type": "markdown",
   "metadata": {},
   "source": [
    "![Drag Racing](../image/room_charactertistic.png)\n"
   ]
  },
  {
   "cell_type": "markdown",
   "metadata": {},
   "source": [
    "#### Visualisation of  types of hotel characteristics"
   ]
  },
  {
   "cell_type": "code",
   "execution_count": 25,
   "metadata": {},
   "outputs": [],
   "source": [
    "index_view = ['river_view','private_pool','break_fast','spa_bath','city_view','sea_view','eiffel_tower_view'\n",
    "              ,'wheelchair_accessible']\n",
    "view_count=[]\n",
    "\n",
    "for i in index_view:\n",
    "    view_count.append(get_special(i).shape[0])"
   ]
  },
  {
   "cell_type": "code",
   "execution_count": 26,
   "metadata": {},
   "outputs": [
    {
     "data": {
      "application/vnd.plotly.v1+json": {
       "config": {
        "linkText": "Export to plot.ly",
        "plotlyServerURL": "https://plot.ly",
        "showLink": true
       },
       "data": [
        {
         "marker": {
          "color": "rgba(55, 128, 191, 0.6)",
          "line": {
           "color": "rgba(55, 128, 191, 1.0)",
           "width": 1
          }
         },
         "name": "No.of Hotel",
         "orientation": "h",
         "text": "",
         "type": "bar",
         "x": [
          18,
          6,
          9,
          15,
          58,
          10,
          14,
          1
         ],
         "y": [
          "river_view",
          "private_pool",
          "break_fast",
          "spa_bath",
          "city_view",
          "sea_view",
          "eiffel_tower_view",
          "wheelchair_accessible"
         ]
        }
       ],
       "layout": {
        "legend": {
         "bgcolor": "#F5F6F9",
         "font": {
          "color": "#4D5663"
         }
        },
        "paper_bgcolor": "#F5F6F9",
        "plot_bgcolor": "#F5F6F9",
        "template": {
         "data": {
          "bar": [
           {
            "error_x": {
             "color": "#2a3f5f"
            },
            "error_y": {
             "color": "#2a3f5f"
            },
            "marker": {
             "line": {
              "color": "#E5ECF6",
              "width": 0.5
             }
            },
            "type": "bar"
           }
          ],
          "barpolar": [
           {
            "marker": {
             "line": {
              "color": "#E5ECF6",
              "width": 0.5
             }
            },
            "type": "barpolar"
           }
          ],
          "carpet": [
           {
            "aaxis": {
             "endlinecolor": "#2a3f5f",
             "gridcolor": "white",
             "linecolor": "white",
             "minorgridcolor": "white",
             "startlinecolor": "#2a3f5f"
            },
            "baxis": {
             "endlinecolor": "#2a3f5f",
             "gridcolor": "white",
             "linecolor": "white",
             "minorgridcolor": "white",
             "startlinecolor": "#2a3f5f"
            },
            "type": "carpet"
           }
          ],
          "choropleth": [
           {
            "colorbar": {
             "outlinewidth": 0,
             "ticks": ""
            },
            "type": "choropleth"
           }
          ],
          "contour": [
           {
            "colorbar": {
             "outlinewidth": 0,
             "ticks": ""
            },
            "colorscale": [
             [
              0,
              "#0d0887"
             ],
             [
              0.1111111111111111,
              "#46039f"
             ],
             [
              0.2222222222222222,
              "#7201a8"
             ],
             [
              0.3333333333333333,
              "#9c179e"
             ],
             [
              0.4444444444444444,
              "#bd3786"
             ],
             [
              0.5555555555555556,
              "#d8576b"
             ],
             [
              0.6666666666666666,
              "#ed7953"
             ],
             [
              0.7777777777777778,
              "#fb9f3a"
             ],
             [
              0.8888888888888888,
              "#fdca26"
             ],
             [
              1,
              "#f0f921"
             ]
            ],
            "type": "contour"
           }
          ],
          "contourcarpet": [
           {
            "colorbar": {
             "outlinewidth": 0,
             "ticks": ""
            },
            "type": "contourcarpet"
           }
          ],
          "heatmap": [
           {
            "colorbar": {
             "outlinewidth": 0,
             "ticks": ""
            },
            "colorscale": [
             [
              0,
              "#0d0887"
             ],
             [
              0.1111111111111111,
              "#46039f"
             ],
             [
              0.2222222222222222,
              "#7201a8"
             ],
             [
              0.3333333333333333,
              "#9c179e"
             ],
             [
              0.4444444444444444,
              "#bd3786"
             ],
             [
              0.5555555555555556,
              "#d8576b"
             ],
             [
              0.6666666666666666,
              "#ed7953"
             ],
             [
              0.7777777777777778,
              "#fb9f3a"
             ],
             [
              0.8888888888888888,
              "#fdca26"
             ],
             [
              1,
              "#f0f921"
             ]
            ],
            "type": "heatmap"
           }
          ],
          "heatmapgl": [
           {
            "colorbar": {
             "outlinewidth": 0,
             "ticks": ""
            },
            "colorscale": [
             [
              0,
              "#0d0887"
             ],
             [
              0.1111111111111111,
              "#46039f"
             ],
             [
              0.2222222222222222,
              "#7201a8"
             ],
             [
              0.3333333333333333,
              "#9c179e"
             ],
             [
              0.4444444444444444,
              "#bd3786"
             ],
             [
              0.5555555555555556,
              "#d8576b"
             ],
             [
              0.6666666666666666,
              "#ed7953"
             ],
             [
              0.7777777777777778,
              "#fb9f3a"
             ],
             [
              0.8888888888888888,
              "#fdca26"
             ],
             [
              1,
              "#f0f921"
             ]
            ],
            "type": "heatmapgl"
           }
          ],
          "histogram": [
           {
            "marker": {
             "colorbar": {
              "outlinewidth": 0,
              "ticks": ""
             }
            },
            "type": "histogram"
           }
          ],
          "histogram2d": [
           {
            "colorbar": {
             "outlinewidth": 0,
             "ticks": ""
            },
            "colorscale": [
             [
              0,
              "#0d0887"
             ],
             [
              0.1111111111111111,
              "#46039f"
             ],
             [
              0.2222222222222222,
              "#7201a8"
             ],
             [
              0.3333333333333333,
              "#9c179e"
             ],
             [
              0.4444444444444444,
              "#bd3786"
             ],
             [
              0.5555555555555556,
              "#d8576b"
             ],
             [
              0.6666666666666666,
              "#ed7953"
             ],
             [
              0.7777777777777778,
              "#fb9f3a"
             ],
             [
              0.8888888888888888,
              "#fdca26"
             ],
             [
              1,
              "#f0f921"
             ]
            ],
            "type": "histogram2d"
           }
          ],
          "histogram2dcontour": [
           {
            "colorbar": {
             "outlinewidth": 0,
             "ticks": ""
            },
            "colorscale": [
             [
              0,
              "#0d0887"
             ],
             [
              0.1111111111111111,
              "#46039f"
             ],
             [
              0.2222222222222222,
              "#7201a8"
             ],
             [
              0.3333333333333333,
              "#9c179e"
             ],
             [
              0.4444444444444444,
              "#bd3786"
             ],
             [
              0.5555555555555556,
              "#d8576b"
             ],
             [
              0.6666666666666666,
              "#ed7953"
             ],
             [
              0.7777777777777778,
              "#fb9f3a"
             ],
             [
              0.8888888888888888,
              "#fdca26"
             ],
             [
              1,
              "#f0f921"
             ]
            ],
            "type": "histogram2dcontour"
           }
          ],
          "mesh3d": [
           {
            "colorbar": {
             "outlinewidth": 0,
             "ticks": ""
            },
            "type": "mesh3d"
           }
          ],
          "parcoords": [
           {
            "line": {
             "colorbar": {
              "outlinewidth": 0,
              "ticks": ""
             }
            },
            "type": "parcoords"
           }
          ],
          "pie": [
           {
            "automargin": true,
            "type": "pie"
           }
          ],
          "scatter": [
           {
            "marker": {
             "colorbar": {
              "outlinewidth": 0,
              "ticks": ""
             }
            },
            "type": "scatter"
           }
          ],
          "scatter3d": [
           {
            "line": {
             "colorbar": {
              "outlinewidth": 0,
              "ticks": ""
             }
            },
            "marker": {
             "colorbar": {
              "outlinewidth": 0,
              "ticks": ""
             }
            },
            "type": "scatter3d"
           }
          ],
          "scattercarpet": [
           {
            "marker": {
             "colorbar": {
              "outlinewidth": 0,
              "ticks": ""
             }
            },
            "type": "scattercarpet"
           }
          ],
          "scattergeo": [
           {
            "marker": {
             "colorbar": {
              "outlinewidth": 0,
              "ticks": ""
             }
            },
            "type": "scattergeo"
           }
          ],
          "scattergl": [
           {
            "marker": {
             "colorbar": {
              "outlinewidth": 0,
              "ticks": ""
             }
            },
            "type": "scattergl"
           }
          ],
          "scattermapbox": [
           {
            "marker": {
             "colorbar": {
              "outlinewidth": 0,
              "ticks": ""
             }
            },
            "type": "scattermapbox"
           }
          ],
          "scatterpolar": [
           {
            "marker": {
             "colorbar": {
              "outlinewidth": 0,
              "ticks": ""
             }
            },
            "type": "scatterpolar"
           }
          ],
          "scatterpolargl": [
           {
            "marker": {
             "colorbar": {
              "outlinewidth": 0,
              "ticks": ""
             }
            },
            "type": "scatterpolargl"
           }
          ],
          "scatterternary": [
           {
            "marker": {
             "colorbar": {
              "outlinewidth": 0,
              "ticks": ""
             }
            },
            "type": "scatterternary"
           }
          ],
          "surface": [
           {
            "colorbar": {
             "outlinewidth": 0,
             "ticks": ""
            },
            "colorscale": [
             [
              0,
              "#0d0887"
             ],
             [
              0.1111111111111111,
              "#46039f"
             ],
             [
              0.2222222222222222,
              "#7201a8"
             ],
             [
              0.3333333333333333,
              "#9c179e"
             ],
             [
              0.4444444444444444,
              "#bd3786"
             ],
             [
              0.5555555555555556,
              "#d8576b"
             ],
             [
              0.6666666666666666,
              "#ed7953"
             ],
             [
              0.7777777777777778,
              "#fb9f3a"
             ],
             [
              0.8888888888888888,
              "#fdca26"
             ],
             [
              1,
              "#f0f921"
             ]
            ],
            "type": "surface"
           }
          ],
          "table": [
           {
            "cells": {
             "fill": {
              "color": "#EBF0F8"
             },
             "line": {
              "color": "white"
             }
            },
            "header": {
             "fill": {
              "color": "#C8D4E3"
             },
             "line": {
              "color": "white"
             }
            },
            "type": "table"
           }
          ]
         },
         "layout": {
          "annotationdefaults": {
           "arrowcolor": "#2a3f5f",
           "arrowhead": 0,
           "arrowwidth": 1
          },
          "coloraxis": {
           "colorbar": {
            "outlinewidth": 0,
            "ticks": ""
           }
          },
          "colorscale": {
           "diverging": [
            [
             0,
             "#8e0152"
            ],
            [
             0.1,
             "#c51b7d"
            ],
            [
             0.2,
             "#de77ae"
            ],
            [
             0.3,
             "#f1b6da"
            ],
            [
             0.4,
             "#fde0ef"
            ],
            [
             0.5,
             "#f7f7f7"
            ],
            [
             0.6,
             "#e6f5d0"
            ],
            [
             0.7,
             "#b8e186"
            ],
            [
             0.8,
             "#7fbc41"
            ],
            [
             0.9,
             "#4d9221"
            ],
            [
             1,
             "#276419"
            ]
           ],
           "sequential": [
            [
             0,
             "#0d0887"
            ],
            [
             0.1111111111111111,
             "#46039f"
            ],
            [
             0.2222222222222222,
             "#7201a8"
            ],
            [
             0.3333333333333333,
             "#9c179e"
            ],
            [
             0.4444444444444444,
             "#bd3786"
            ],
            [
             0.5555555555555556,
             "#d8576b"
            ],
            [
             0.6666666666666666,
             "#ed7953"
            ],
            [
             0.7777777777777778,
             "#fb9f3a"
            ],
            [
             0.8888888888888888,
             "#fdca26"
            ],
            [
             1,
             "#f0f921"
            ]
           ],
           "sequentialminus": [
            [
             0,
             "#0d0887"
            ],
            [
             0.1111111111111111,
             "#46039f"
            ],
            [
             0.2222222222222222,
             "#7201a8"
            ],
            [
             0.3333333333333333,
             "#9c179e"
            ],
            [
             0.4444444444444444,
             "#bd3786"
            ],
            [
             0.5555555555555556,
             "#d8576b"
            ],
            [
             0.6666666666666666,
             "#ed7953"
            ],
            [
             0.7777777777777778,
             "#fb9f3a"
            ],
            [
             0.8888888888888888,
             "#fdca26"
            ],
            [
             1,
             "#f0f921"
            ]
           ]
          },
          "colorway": [
           "#636efa",
           "#EF553B",
           "#00cc96",
           "#ab63fa",
           "#FFA15A",
           "#19d3f3",
           "#FF6692",
           "#B6E880",
           "#FF97FF",
           "#FECB52"
          ],
          "font": {
           "color": "#2a3f5f"
          },
          "geo": {
           "bgcolor": "white",
           "lakecolor": "white",
           "landcolor": "#E5ECF6",
           "showlakes": true,
           "showland": true,
           "subunitcolor": "white"
          },
          "hoverlabel": {
           "align": "left"
          },
          "hovermode": "closest",
          "mapbox": {
           "style": "light"
          },
          "paper_bgcolor": "white",
          "plot_bgcolor": "#E5ECF6",
          "polar": {
           "angularaxis": {
            "gridcolor": "white",
            "linecolor": "white",
            "ticks": ""
           },
           "bgcolor": "#E5ECF6",
           "radialaxis": {
            "gridcolor": "white",
            "linecolor": "white",
            "ticks": ""
           }
          },
          "scene": {
           "xaxis": {
            "backgroundcolor": "#E5ECF6",
            "gridcolor": "white",
            "gridwidth": 2,
            "linecolor": "white",
            "showbackground": true,
            "ticks": "",
            "zerolinecolor": "white"
           },
           "yaxis": {
            "backgroundcolor": "#E5ECF6",
            "gridcolor": "white",
            "gridwidth": 2,
            "linecolor": "white",
            "showbackground": true,
            "ticks": "",
            "zerolinecolor": "white"
           },
           "zaxis": {
            "backgroundcolor": "#E5ECF6",
            "gridcolor": "white",
            "gridwidth": 2,
            "linecolor": "white",
            "showbackground": true,
            "ticks": "",
            "zerolinecolor": "white"
           }
          },
          "shapedefaults": {
           "line": {
            "color": "#2a3f5f"
           }
          },
          "ternary": {
           "aaxis": {
            "gridcolor": "white",
            "linecolor": "white",
            "ticks": ""
           },
           "baxis": {
            "gridcolor": "white",
            "linecolor": "white",
            "ticks": ""
           },
           "bgcolor": "#E5ECF6",
           "caxis": {
            "gridcolor": "white",
            "linecolor": "white",
            "ticks": ""
           }
          },
          "title": {
           "x": 0.05
          },
          "xaxis": {
           "automargin": true,
           "gridcolor": "white",
           "linecolor": "white",
           "ticks": "",
           "title": {
            "standoff": 15
           },
           "zerolinecolor": "white",
           "zerolinewidth": 2
          },
          "yaxis": {
           "automargin": true,
           "gridcolor": "white",
           "linecolor": "white",
           "ticks": "",
           "title": {
            "standoff": 15
           },
           "zerolinecolor": "white",
           "zerolinewidth": 2
          }
         }
        },
        "title": {
         "font": {
          "color": "#4D5663"
         },
         "text": "Number of hotels with special characteristics"
        },
        "xaxis": {
         "gridcolor": "#E1E5ED",
         "linecolor": "black",
         "showgrid": true,
         "tickfont": {
          "color": "#4D5663"
         },
         "title": {
          "font": {
           "color": "#4D5663"
          },
          "text": ""
         },
         "zerolinecolor": "#E1E5ED"
        },
        "yaxis": {
         "gridcolor": "#E1E5ED",
         "linecolor": "black",
         "showgrid": true,
         "tickfont": {
          "color": "#4D5663"
         },
         "title": {
          "font": {
           "color": "#4D5663"
          },
          "text": "Characteristic"
         },
         "zerolinecolor": "#E1E5ED"
        }
       }
      },
      "text/html": [
       "<div>\n",
       "        \n",
       "        \n",
       "            <div id=\"a0a25ec5-56a8-400b-be11-e3389beacbfd\" class=\"plotly-graph-div\" style=\"height:525px; width:100%;\"></div>\n",
       "            <script type=\"text/javascript\">\n",
       "                require([\"plotly\"], function(Plotly) {\n",
       "                    window.PLOTLYENV=window.PLOTLYENV || {};\n",
       "                    window.PLOTLYENV.BASE_URL='https://plot.ly';\n",
       "                    \n",
       "                if (document.getElementById(\"a0a25ec5-56a8-400b-be11-e3389beacbfd\")) {\n",
       "                    Plotly.newPlot(\n",
       "                        'a0a25ec5-56a8-400b-be11-e3389beacbfd',\n",
       "                        [{\"marker\": {\"color\": \"rgba(55, 128, 191, 0.6)\", \"line\": {\"color\": \"rgba(55, 128, 191, 1.0)\", \"width\": 1}}, \"name\": \"No.of Hotel\", \"orientation\": \"h\", \"text\": \"\", \"type\": \"bar\", \"x\": [18, 6, 9, 15, 58, 10, 14, 1], \"y\": [\"river_view\", \"private_pool\", \"break_fast\", \"spa_bath\", \"city_view\", \"sea_view\", \"eiffel_tower_view\", \"wheelchair_accessible\"]}],\n",
       "                        {\"legend\": {\"bgcolor\": \"#F5F6F9\", \"font\": {\"color\": \"#4D5663\"}}, \"paper_bgcolor\": \"#F5F6F9\", \"plot_bgcolor\": \"#F5F6F9\", \"template\": {\"data\": {\"bar\": [{\"error_x\": {\"color\": \"#2a3f5f\"}, \"error_y\": {\"color\": \"#2a3f5f\"}, \"marker\": {\"line\": {\"color\": \"#E5ECF6\", \"width\": 0.5}}, \"type\": \"bar\"}], \"barpolar\": [{\"marker\": {\"line\": {\"color\": \"#E5ECF6\", \"width\": 0.5}}, \"type\": \"barpolar\"}], \"carpet\": [{\"aaxis\": {\"endlinecolor\": \"#2a3f5f\", \"gridcolor\": \"white\", \"linecolor\": \"white\", \"minorgridcolor\": \"white\", \"startlinecolor\": \"#2a3f5f\"}, \"baxis\": {\"endlinecolor\": \"#2a3f5f\", \"gridcolor\": \"white\", \"linecolor\": \"white\", \"minorgridcolor\": \"white\", \"startlinecolor\": \"#2a3f5f\"}, \"type\": \"carpet\"}], \"choropleth\": [{\"colorbar\": {\"outlinewidth\": 0, \"ticks\": \"\"}, \"type\": \"choropleth\"}], \"contour\": [{\"colorbar\": {\"outlinewidth\": 0, \"ticks\": \"\"}, \"colorscale\": [[0.0, \"#0d0887\"], [0.1111111111111111, \"#46039f\"], [0.2222222222222222, \"#7201a8\"], [0.3333333333333333, \"#9c179e\"], [0.4444444444444444, \"#bd3786\"], [0.5555555555555556, \"#d8576b\"], [0.6666666666666666, \"#ed7953\"], [0.7777777777777778, \"#fb9f3a\"], [0.8888888888888888, \"#fdca26\"], [1.0, \"#f0f921\"]], \"type\": \"contour\"}], \"contourcarpet\": [{\"colorbar\": {\"outlinewidth\": 0, \"ticks\": \"\"}, \"type\": \"contourcarpet\"}], \"heatmap\": [{\"colorbar\": {\"outlinewidth\": 0, \"ticks\": \"\"}, \"colorscale\": [[0.0, \"#0d0887\"], [0.1111111111111111, \"#46039f\"], [0.2222222222222222, \"#7201a8\"], [0.3333333333333333, \"#9c179e\"], [0.4444444444444444, \"#bd3786\"], [0.5555555555555556, \"#d8576b\"], [0.6666666666666666, \"#ed7953\"], [0.7777777777777778, \"#fb9f3a\"], [0.8888888888888888, \"#fdca26\"], [1.0, \"#f0f921\"]], \"type\": \"heatmap\"}], \"heatmapgl\": [{\"colorbar\": {\"outlinewidth\": 0, \"ticks\": \"\"}, \"colorscale\": [[0.0, \"#0d0887\"], [0.1111111111111111, \"#46039f\"], [0.2222222222222222, \"#7201a8\"], [0.3333333333333333, \"#9c179e\"], [0.4444444444444444, \"#bd3786\"], [0.5555555555555556, \"#d8576b\"], [0.6666666666666666, \"#ed7953\"], [0.7777777777777778, \"#fb9f3a\"], [0.8888888888888888, \"#fdca26\"], [1.0, \"#f0f921\"]], \"type\": \"heatmapgl\"}], \"histogram\": [{\"marker\": {\"colorbar\": {\"outlinewidth\": 0, \"ticks\": \"\"}}, \"type\": \"histogram\"}], \"histogram2d\": [{\"colorbar\": {\"outlinewidth\": 0, \"ticks\": \"\"}, \"colorscale\": [[0.0, \"#0d0887\"], [0.1111111111111111, \"#46039f\"], [0.2222222222222222, \"#7201a8\"], [0.3333333333333333, \"#9c179e\"], [0.4444444444444444, \"#bd3786\"], [0.5555555555555556, \"#d8576b\"], [0.6666666666666666, \"#ed7953\"], [0.7777777777777778, \"#fb9f3a\"], [0.8888888888888888, \"#fdca26\"], [1.0, \"#f0f921\"]], \"type\": \"histogram2d\"}], \"histogram2dcontour\": [{\"colorbar\": {\"outlinewidth\": 0, \"ticks\": \"\"}, \"colorscale\": [[0.0, \"#0d0887\"], [0.1111111111111111, \"#46039f\"], [0.2222222222222222, \"#7201a8\"], [0.3333333333333333, \"#9c179e\"], [0.4444444444444444, \"#bd3786\"], [0.5555555555555556, \"#d8576b\"], [0.6666666666666666, \"#ed7953\"], [0.7777777777777778, \"#fb9f3a\"], [0.8888888888888888, \"#fdca26\"], [1.0, \"#f0f921\"]], \"type\": \"histogram2dcontour\"}], \"mesh3d\": [{\"colorbar\": {\"outlinewidth\": 0, \"ticks\": \"\"}, \"type\": \"mesh3d\"}], \"parcoords\": [{\"line\": {\"colorbar\": {\"outlinewidth\": 0, \"ticks\": \"\"}}, \"type\": \"parcoords\"}], \"pie\": [{\"automargin\": true, \"type\": \"pie\"}], \"scatter\": [{\"marker\": {\"colorbar\": {\"outlinewidth\": 0, \"ticks\": \"\"}}, \"type\": \"scatter\"}], \"scatter3d\": [{\"line\": {\"colorbar\": {\"outlinewidth\": 0, \"ticks\": \"\"}}, \"marker\": {\"colorbar\": {\"outlinewidth\": 0, \"ticks\": \"\"}}, \"type\": \"scatter3d\"}], \"scattercarpet\": [{\"marker\": {\"colorbar\": {\"outlinewidth\": 0, \"ticks\": \"\"}}, \"type\": \"scattercarpet\"}], \"scattergeo\": [{\"marker\": {\"colorbar\": {\"outlinewidth\": 0, \"ticks\": \"\"}}, \"type\": \"scattergeo\"}], \"scattergl\": [{\"marker\": {\"colorbar\": {\"outlinewidth\": 0, \"ticks\": \"\"}}, \"type\": \"scattergl\"}], \"scattermapbox\": [{\"marker\": {\"colorbar\": {\"outlinewidth\": 0, \"ticks\": \"\"}}, \"type\": \"scattermapbox\"}], \"scatterpolar\": [{\"marker\": {\"colorbar\": {\"outlinewidth\": 0, \"ticks\": \"\"}}, \"type\": \"scatterpolar\"}], \"scatterpolargl\": [{\"marker\": {\"colorbar\": {\"outlinewidth\": 0, \"ticks\": \"\"}}, \"type\": \"scatterpolargl\"}], \"scatterternary\": [{\"marker\": {\"colorbar\": {\"outlinewidth\": 0, \"ticks\": \"\"}}, \"type\": \"scatterternary\"}], \"surface\": [{\"colorbar\": {\"outlinewidth\": 0, \"ticks\": \"\"}, \"colorscale\": [[0.0, \"#0d0887\"], [0.1111111111111111, \"#46039f\"], [0.2222222222222222, \"#7201a8\"], [0.3333333333333333, \"#9c179e\"], [0.4444444444444444, \"#bd3786\"], [0.5555555555555556, \"#d8576b\"], [0.6666666666666666, \"#ed7953\"], [0.7777777777777778, \"#fb9f3a\"], [0.8888888888888888, \"#fdca26\"], [1.0, \"#f0f921\"]], \"type\": \"surface\"}], \"table\": [{\"cells\": {\"fill\": {\"color\": \"#EBF0F8\"}, \"line\": {\"color\": \"white\"}}, \"header\": {\"fill\": {\"color\": \"#C8D4E3\"}, \"line\": {\"color\": \"white\"}}, \"type\": \"table\"}]}, \"layout\": {\"annotationdefaults\": {\"arrowcolor\": \"#2a3f5f\", \"arrowhead\": 0, \"arrowwidth\": 1}, \"coloraxis\": {\"colorbar\": {\"outlinewidth\": 0, \"ticks\": \"\"}}, \"colorscale\": {\"diverging\": [[0, \"#8e0152\"], [0.1, \"#c51b7d\"], [0.2, \"#de77ae\"], [0.3, \"#f1b6da\"], [0.4, \"#fde0ef\"], [0.5, \"#f7f7f7\"], [0.6, \"#e6f5d0\"], [0.7, \"#b8e186\"], [0.8, \"#7fbc41\"], [0.9, \"#4d9221\"], [1, \"#276419\"]], \"sequential\": [[0.0, \"#0d0887\"], [0.1111111111111111, \"#46039f\"], [0.2222222222222222, \"#7201a8\"], [0.3333333333333333, \"#9c179e\"], [0.4444444444444444, \"#bd3786\"], [0.5555555555555556, \"#d8576b\"], [0.6666666666666666, \"#ed7953\"], [0.7777777777777778, \"#fb9f3a\"], [0.8888888888888888, \"#fdca26\"], [1.0, \"#f0f921\"]], \"sequentialminus\": [[0.0, \"#0d0887\"], [0.1111111111111111, \"#46039f\"], [0.2222222222222222, \"#7201a8\"], [0.3333333333333333, \"#9c179e\"], [0.4444444444444444, \"#bd3786\"], [0.5555555555555556, \"#d8576b\"], [0.6666666666666666, \"#ed7953\"], [0.7777777777777778, \"#fb9f3a\"], [0.8888888888888888, \"#fdca26\"], [1.0, \"#f0f921\"]]}, \"colorway\": [\"#636efa\", \"#EF553B\", \"#00cc96\", \"#ab63fa\", \"#FFA15A\", \"#19d3f3\", \"#FF6692\", \"#B6E880\", \"#FF97FF\", \"#FECB52\"], \"font\": {\"color\": \"#2a3f5f\"}, \"geo\": {\"bgcolor\": \"white\", \"lakecolor\": \"white\", \"landcolor\": \"#E5ECF6\", \"showlakes\": true, \"showland\": true, \"subunitcolor\": \"white\"}, \"hoverlabel\": {\"align\": \"left\"}, \"hovermode\": \"closest\", \"mapbox\": {\"style\": \"light\"}, \"paper_bgcolor\": \"white\", \"plot_bgcolor\": \"#E5ECF6\", \"polar\": {\"angularaxis\": {\"gridcolor\": \"white\", \"linecolor\": \"white\", \"ticks\": \"\"}, \"bgcolor\": \"#E5ECF6\", \"radialaxis\": {\"gridcolor\": \"white\", \"linecolor\": \"white\", \"ticks\": \"\"}}, \"scene\": {\"xaxis\": {\"backgroundcolor\": \"#E5ECF6\", \"gridcolor\": \"white\", \"gridwidth\": 2, \"linecolor\": \"white\", \"showbackground\": true, \"ticks\": \"\", \"zerolinecolor\": \"white\"}, \"yaxis\": {\"backgroundcolor\": \"#E5ECF6\", \"gridcolor\": \"white\", \"gridwidth\": 2, \"linecolor\": \"white\", \"showbackground\": true, \"ticks\": \"\", \"zerolinecolor\": \"white\"}, \"zaxis\": {\"backgroundcolor\": \"#E5ECF6\", \"gridcolor\": \"white\", \"gridwidth\": 2, \"linecolor\": \"white\", \"showbackground\": true, \"ticks\": \"\", \"zerolinecolor\": \"white\"}}, \"shapedefaults\": {\"line\": {\"color\": \"#2a3f5f\"}}, \"ternary\": {\"aaxis\": {\"gridcolor\": \"white\", \"linecolor\": \"white\", \"ticks\": \"\"}, \"baxis\": {\"gridcolor\": \"white\", \"linecolor\": \"white\", \"ticks\": \"\"}, \"bgcolor\": \"#E5ECF6\", \"caxis\": {\"gridcolor\": \"white\", \"linecolor\": \"white\", \"ticks\": \"\"}}, \"title\": {\"x\": 0.05}, \"xaxis\": {\"automargin\": true, \"gridcolor\": \"white\", \"linecolor\": \"white\", \"ticks\": \"\", \"title\": {\"standoff\": 15}, \"zerolinecolor\": \"white\", \"zerolinewidth\": 2}, \"yaxis\": {\"automargin\": true, \"gridcolor\": \"white\", \"linecolor\": \"white\", \"ticks\": \"\", \"title\": {\"standoff\": 15}, \"zerolinecolor\": \"white\", \"zerolinewidth\": 2}}}, \"title\": {\"font\": {\"color\": \"#4D5663\"}, \"text\": \"Number of hotels with special characteristics\"}, \"xaxis\": {\"gridcolor\": \"#E1E5ED\", \"linecolor\": \"black\", \"showgrid\": true, \"tickfont\": {\"color\": \"#4D5663\"}, \"title\": {\"font\": {\"color\": \"#4D5663\"}, \"text\": \"\"}, \"zerolinecolor\": \"#E1E5ED\"}, \"yaxis\": {\"gridcolor\": \"#E1E5ED\", \"linecolor\": \"black\", \"showgrid\": true, \"tickfont\": {\"color\": \"#4D5663\"}, \"title\": {\"font\": {\"color\": \"#4D5663\"}, \"text\": \"Characteristic\"}, \"zerolinecolor\": \"#E1E5ED\"}},\n",
       "                        {\"showLink\": true, \"linkText\": \"Export to plot.ly\", \"plotlyServerURL\": \"https://plot.ly\", \"responsive\": true}\n",
       "                    ).then(function(){\n",
       "                            \n",
       "var gd = document.getElementById('a0a25ec5-56a8-400b-be11-e3389beacbfd');\n",
       "var x = new MutationObserver(function (mutations, observer) {{\n",
       "        var display = window.getComputedStyle(gd).display;\n",
       "        if (!display || display === 'none') {{\n",
       "            console.log([gd, 'removed!']);\n",
       "            Plotly.purge(gd);\n",
       "            observer.disconnect();\n",
       "        }}\n",
       "}});\n",
       "\n",
       "// Listen for the removal of the full notebook cells\n",
       "var notebookContainer = gd.closest('#notebook-container');\n",
       "if (notebookContainer) {{\n",
       "    x.observe(notebookContainer, {childList: true});\n",
       "}}\n",
       "\n",
       "// Listen for the clearing of the current output cell\n",
       "var outputEl = gd.closest('.output');\n",
       "if (outputEl) {{\n",
       "    x.observe(outputEl, {childList: true});\n",
       "}}\n",
       "\n",
       "                        })\n",
       "                };\n",
       "                });\n",
       "            </script>\n",
       "        </div>"
      ]
     },
     "metadata": {},
     "output_type": "display_data"
    }
   ],
   "source": [
    "df2 = pd.DataFrame({'No.of Hotel': view_count}, index=index_view)\n",
    "ax2 = df2.iplot(kind='barh', yTitle='Characteristic',colors='blue', linecolor='black', title='Number of hotels with special characteristics')\n",
    "ax2"
   ]
  },
  {
   "cell_type": "markdown",
   "metadata": {},
   "source": [
    "![Drag Racing](../image/hotelcharacteristic.png)\n"
   ]
  },
  {
   "cell_type": "code",
   "execution_count": 27,
   "metadata": {},
   "outputs": [
    {
     "data": {
      "text/plain": [
       "hotel_name                      0\n",
       "tags                            0\n",
       "lat_x                           0\n",
       "lng_x                           0\n",
       "city                            0\n",
       "                               ..\n",
       "luxury quadruple room           0\n",
       "large room                      0\n",
       "art room with iconic view       0\n",
       "art room xl with iconic view    0\n",
       "penta plus room                 0\n",
       "Length: 520, dtype: int64"
      ]
     },
     "execution_count": 27,
     "metadata": {},
     "output_type": "execute_result"
    }
   ],
   "source": [
    "hoteltags_geo.isnull().sum()"
   ]
  },
  {
   "cell_type": "code",
   "execution_count": 28,
   "metadata": {},
   "outputs": [
    {
     "data": {
      "text/plain": [
       "{'2 rooms',\n",
       " '4 rooms',\n",
       " '_suite_',\n",
       " 'business trip',\n",
       " 'couple',\n",
       " 'double_room',\n",
       " 'eiffel_tower_view',\n",
       " 'family with older children',\n",
       " 'family with young children',\n",
       " 'group',\n",
       " 'leisure trip',\n",
       " 'single_room',\n",
       " 'solo traveler',\n",
       " 'travelers with friends',\n",
       " 'twin_room'}"
      ]
     },
     "execution_count": 28,
     "metadata": {},
     "output_type": "execute_result"
    }
   ],
   "source": [
    "hoteltags_geo.new_tags.iloc[323]"
   ]
  },
  {
   "cell_type": "code",
   "execution_count": 29,
   "metadata": {},
   "outputs": [
    {
     "data": {
      "text/plain": [
       "1    1046\n",
       "0     428\n",
       "Name: double_room, dtype: int64"
      ]
     },
     "execution_count": 29,
     "metadata": {},
     "output_type": "execute_result"
    }
   ],
   "source": [
    "hoteltags_geo['double_room'].value_counts()"
   ]
  },
  {
   "cell_type": "code",
   "execution_count": 30,
   "metadata": {
    "scrolled": true
   },
   "outputs": [
    {
     "data": {
      "text/html": [
       "<div style=\"width:100%;\"><div style=\"position:relative;width:100%;height:0;padding-bottom:60%;\"><iframe src=\"data:text/html;charset=utf-8;base64,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\" style=\"position:absolute;width:100%;height:100%;left:0;top:0;border:none !important;\" allowfullscreen webkitallowfullscreen mozallowfullscreen></iframe></div></div>"
      ],
      "text/plain": [
       "<folium.folium.Map at 0x1c353dd910>"
      ]
     },
     "execution_count": 30,
     "metadata": {},
     "output_type": "execute_result"
    }
   ],
   "source": [
    "# to generate map and visualise\n",
    "get_map(get_special('eiffel_tower_view'),'../image/eiffel.html')"
   ]
  },
  {
   "cell_type": "markdown",
   "metadata": {},
   "source": [
    "![Drag Racing](../image/eiffel.png)"
   ]
  },
  {
   "cell_type": "markdown",
   "metadata": {},
   "source": [
    "## Modelling"
   ]
  },
  {
   "cell_type": "code",
   "execution_count": 31,
   "metadata": {},
   "outputs": [],
   "source": [
    "similarityDF=cosine_similarity(hoteltags_geo.iloc[:, 6:],hoteltags_geo.iloc[:, 6:])\n"
   ]
  },
  {
   "cell_type": "code",
   "execution_count": 32,
   "metadata": {},
   "outputs": [],
   "source": [
    "np.save(\"../data/tagcosine.npy\",similarityDF)"
   ]
  },
  {
   "cell_type": "code",
   "execution_count": 33,
   "metadata": {},
   "outputs": [],
   "source": [
    "hoteltags_geo.to_pickle(\"../data/clean_hoteltag.pkl\")"
   ]
  },
  {
   "cell_type": "code",
   "execution_count": 34,
   "metadata": {},
   "outputs": [],
   "source": [
    "def new_recommendations_tags(name,city, cosine_similarities):\n",
    "    \n",
    "    recommended_hotels = []\n",
    "    \n",
    "    #get input city index\n",
    "    city_index= list(hoteltags_geo[hoteltags_geo.city==city].index)\n",
    "    \n",
    "    # gettin the index of the hotel that matches the name\n",
    "    idx = hoteltags_geo[(hoteltags_geo.hotel_name == name)].index[0]\n",
    "    \n",
    "    # creating a Series with the similarity scores in descending order\n",
    "    score_series = pd.Series(cosine_similarities[idx]).sort_values(ascending = False)\n",
    "\n",
    "    # getting the indexes of  similar hotels\n",
    "    top_10_indexes = list(score_series.index)\n",
    "    \n",
    "    # populating the list with the names of the matching hotels\n",
    "    for i in range(len(top_10_indexes)):\n",
    "        if top_10_indexes[i] not in city_index:\n",
    "            pass\n",
    "        else:\n",
    "            recommended_hotels.append(hoteltags_geo[hoteltags_geo.index==top_10_indexes[i]]['hotel_name'].values[0])\n",
    "\n",
    "    # populating a dictionary of size 10 containing hotel name and lat and longitude \n",
    "    h = hoteltags_geo[['hotel_name','lat_x','lng_x']].to_dict(orient='records')\n",
    "    l = {k['hotel_name']: [k['lat_x'], k['lng_x']] for k in h}\n",
    "    if {hotel: l[hotel] for hotel in recommended_hotels }=={}:\n",
    "        print(\"There are no hotels of similar hotel\")\n",
    "    else:\n",
    "        output= {hotel: l[hotel] for hotel in recommended_hotels[:10]}\n",
    "        newoutput={i:output for i in range(1,len(output)+1)}\n",
    "        return newoutput\n",
    "     "
   ]
  },
  {
   "cell_type": "code",
   "execution_count": 35,
   "metadata": {},
   "outputs": [],
   "source": [
    "def get_hotel_fn(mydict,city):\n",
    "    loc2 = geocoder.osm(city)\n",
    "\n",
    "    # map\n",
    "    main_map = folium.Map(location=[loc2.lat, loc2.lng], zoom_start=13)\n",
    "    folium.raster_layers.TileLayer('Open Street Map').add_to(main_map)\n",
    "\n",
    "    # loop through dict\n",
    "    for i in range (1,len(mydict)+1):\n",
    "        folium.Marker(location=list(mydict[i].values())[i-1],tooltip=list(mydict[i].keys())[i-1]\n",
    "                      ,popup=list(mydict[i].keys())[i-1],\n",
    "                     icon=plugins.BeautifyIcon(number=i,\n",
    "                                               icon='bus',\n",
    "                                            border_color='blue',\n",
    "                                            border_width=0.5,\n",
    "                                            text_color='red',\n",
    "                                            inner_icon_style='margin-top:0px;')).add_to(main_map)\n",
    "     \n",
    "    return main_map\n"
   ]
  },
  {
   "cell_type": "code",
   "execution_count": 36,
   "metadata": {},
   "outputs": [
    {
     "data": {
      "text/html": [
       "<div style=\"width:100%;\"><div style=\"position:relative;width:100%;height:0;padding-bottom:60%;\"><iframe src=\"data:text/html;charset=utf-8;base64,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\" style=\"position:absolute;width:100%;height:100%;left:0;top:0;border:none !important;\" allowfullscreen webkitallowfullscreen mozallowfullscreen></iframe></div></div>"
      ],
      "text/plain": [
       "<folium.folium.Map at 0x1c353ddc10>"
      ]
     },
     "execution_count": 36,
     "metadata": {},
     "output_type": "execute_result"
    }
   ],
   "source": [
    "# to populate and pin recommended list of hotels\n",
    "get_hotel_fn(new_recommendations_tags('Hilton Diagonal Mar Barcelona','Vienna',similarityDF),'Vienna')"
   ]
  },
  {
   "cell_type": "markdown",
   "metadata": {},
   "source": [
    "## Deployment\n",
    "\n",
    "As part of the project, I have performed using Flask on Heroku. I have learnt on the steps to take when performing an end-to-end project. This includes re-factoring of codes into functions and classes so as to easier compliation when compiling of the code for Flask. In order to deploy a model, you will need to understand what you want to achieve and re-look at the code on how you could recode to achieve that.\n",
    "\n",
    "\n",
    "[HotelPal](hotelrecommender.herokuapp.com)\n",
    "\n",
    "\n"
   ]
  },
  {
   "cell_type": "markdown",
   "metadata": {},
   "source": [
    "## Limitations and Recommendation\n",
    "\n",
    "In this project, I have refactored the attributes based on my own research. It will be more effective if domain knowledge are provided, this would allow me to understand what are the key attributes that would be of importance and weightage should be given.\n",
    "\n",
    "<br> \n",
    "In view of gauging performance of the content-based recommender, we could potentially roll this model out for A/B testing to evaluate the performance of the model and understand the conversion rate on commerical website.<br>\n",
    "<br>\n",
    "One hot encoding has the following limitations:\n",
    "\n",
    "If there are too many parameters, then our matrix will be huge and make it impractical for calculations.\n",
    "Implicit relationships among categorical variables may be ignored. \n",
    "\n",
    "<br>\n",
    "\n",
    "This project can further study into exploration of using topic modelling or Word2Vec on text reviews. we can also look into using Universal Language Model Fine-tuning for Text Classification (ULMFiT). It utilizes neural networks and inductive transfer learning for text classification.(https://arxiv.org/abs/1801.06146)."
   ]
  },
  {
   "cell_type": "markdown",
   "metadata": {},
   "source": [
    "## Conclusion\n",
    "\n",
    "\n",
    "\n"
   ]
  },
  {
   "cell_type": "markdown",
   "metadata": {},
   "source": [
    "Big data analysis is changing the operating mode of the global tourism economy, providing tourism managers with deeper insights, and infiltrating into all aspects of tourist travels, while driving tourism innovation and development [1]. Tourism text big data mining techniques have made it possible to analyze the behaviors of tourists and realize real-time monitoring of the market.Both machine learning and current deep learning with high achievements have been greatly applied in NLP. \n",
    "\n",
    "With the increasing of applications in the Internet, the source of data is getting more and more richer.\n",
    "Therefore, the various factors in the new data brings new challenges. It is also a chance to create novel\n",
    "methods to achieve better recommendation results. Social networks are still the focus of the\n",
    "recommendation research, integration methods and new algorithms will continue to appear in the\n",
    "future. The sound, location and other user preference information are received more and more\n",
    "attention. I believe the future of the recommender system will be a hot area of innovation and\n",
    "research. "
   ]
  },
  {
   "cell_type": "markdown",
   "metadata": {},
   "source": [
    "## Reference\n",
    "\n",
    "[1] Li, J.; Xu, L.; Tang, L.; Wang, S.; Li, L. Big data in tourism research: A literature review. Tour. Manag. 2018, 68,\n",
    "301–323.\n",
    "\n",
    "[2] Qin Li 1,2, Shaobo Li 3,4,* , Sen Zhang 1,2, Jie Hu 5 and Jianjun Hu 3,A Review of Text Corpus-Based Tourism Big\n",
    "Data Mining\n"
   ]
  }
 ],
 "metadata": {
  "kernelspec": {
   "display_name": "Python 3",
   "language": "python",
   "name": "python3"
  },
  "language_info": {
   "codemirror_mode": {
    "name": "ipython",
    "version": 3
   },
   "file_extension": ".py",
   "mimetype": "text/x-python",
   "name": "python",
   "nbconvert_exporter": "python",
   "pygments_lexer": "ipython3",
   "version": "3.7.4"
  }
 },
 "nbformat": 4,
 "nbformat_minor": 2
}
